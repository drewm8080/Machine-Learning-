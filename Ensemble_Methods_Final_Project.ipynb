{
  "nbformat": 4,
  "nbformat_minor": 0,
  "metadata": {
    "colab": {
      "name": "Ensemble Methods Final Project",
      "provenance": [],
      "collapsed_sections": [],
      "toc_visible": true
    },
    "kernelspec": {
      "name": "python3",
      "display_name": "Python 3"
    },
    "language_info": {
      "name": "python"
    }
  },
  "cells": [
    {
      "cell_type": "markdown",
      "metadata": {
        "id": "JVMLa7AaW2Xr"
      },
      "source": [
        "# **Exploratory Data Analysis**"
      ]
    },
    {
      "cell_type": "code",
      "metadata": {
        "id": "50iWUSoi-_2L"
      },
      "source": [
        "import pandas as pd\n",
        "import matplotlib.pyplot as plt\n",
        "import seaborn as sns\n",
        "from sklearn.ensemble import BaggingClassifier\n",
        "from sklearn.metrics import accuracy_score"
      ],
      "execution_count": null,
      "outputs": []
    },
    {
      "cell_type": "code",
      "metadata": {
        "id": "GbxT1IAy_qN3"
      },
      "source": [
        "pd.set_option('max_rows',9999)"
      ],
      "execution_count": null,
      "outputs": []
    },
    {
      "cell_type": "code",
      "metadata": {
        "id": "tSjK-_FhNBgo"
      },
      "source": [
        "df = pd.read_csv('spambase_csv.csv')"
      ],
      "execution_count": null,
      "outputs": []
    },
    {
      "cell_type": "code",
      "metadata": {
        "colab": {
          "base_uri": "https://localhost:8080/",
          "height": 224
        },
        "id": "P2Z_Z9LGNEsS",
        "outputId": "af46c83a-c85e-4fa0-cf61-4faa2d550dee"
      },
      "source": [
        "df.head()"
      ],
      "execution_count": null,
      "outputs": [
        {
          "output_type": "execute_result",
          "data": {
            "text/html": [
              "<div>\n",
              "<style scoped>\n",
              "    .dataframe tbody tr th:only-of-type {\n",
              "        vertical-align: middle;\n",
              "    }\n",
              "\n",
              "    .dataframe tbody tr th {\n",
              "        vertical-align: top;\n",
              "    }\n",
              "\n",
              "    .dataframe thead th {\n",
              "        text-align: right;\n",
              "    }\n",
              "</style>\n",
              "<table border=\"1\" class=\"dataframe\">\n",
              "  <thead>\n",
              "    <tr style=\"text-align: right;\">\n",
              "      <th></th>\n",
              "      <th>class</th>\n",
              "      <th>word_freq_make</th>\n",
              "      <th>word_freq_address</th>\n",
              "      <th>word_freq_all</th>\n",
              "      <th>word_freq_3d</th>\n",
              "      <th>word_freq_our</th>\n",
              "      <th>word_freq_over</th>\n",
              "      <th>word_freq_remove</th>\n",
              "      <th>word_freq_internet</th>\n",
              "      <th>word_freq_order</th>\n",
              "      <th>word_freq_mail</th>\n",
              "      <th>word_freq_receive</th>\n",
              "      <th>word_freq_will</th>\n",
              "      <th>word_freq_people</th>\n",
              "      <th>word_freq_report</th>\n",
              "      <th>word_freq_addresses</th>\n",
              "      <th>word_freq_free</th>\n",
              "      <th>word_freq_business</th>\n",
              "      <th>word_freq_email</th>\n",
              "      <th>word_freq_you</th>\n",
              "      <th>word_freq_credit</th>\n",
              "      <th>word_freq_your</th>\n",
              "      <th>word_freq_font</th>\n",
              "      <th>word_freq_000</th>\n",
              "      <th>word_freq_money</th>\n",
              "      <th>word_freq_hp</th>\n",
              "      <th>word_freq_hpl</th>\n",
              "      <th>word_freq_george</th>\n",
              "      <th>word_freq_650</th>\n",
              "      <th>word_freq_lab</th>\n",
              "      <th>word_freq_labs</th>\n",
              "      <th>word_freq_telnet</th>\n",
              "      <th>word_freq_857</th>\n",
              "      <th>word_freq_data</th>\n",
              "      <th>word_freq_415</th>\n",
              "      <th>word_freq_85</th>\n",
              "      <th>word_freq_technology</th>\n",
              "      <th>word_freq_1999</th>\n",
              "      <th>word_freq_parts</th>\n",
              "      <th>word_freq_pm</th>\n",
              "      <th>word_freq_direct</th>\n",
              "      <th>word_freq_cs</th>\n",
              "      <th>word_freq_meeting</th>\n",
              "      <th>word_freq_original</th>\n",
              "      <th>word_freq_project</th>\n",
              "      <th>word_freq_re</th>\n",
              "      <th>word_freq_edu</th>\n",
              "      <th>word_freq_table</th>\n",
              "      <th>word_freq_conference</th>\n",
              "      <th>char_freq_%3B</th>\n",
              "      <th>char_freq_%28</th>\n",
              "      <th>char_freq_%5B</th>\n",
              "      <th>char_freq_%21</th>\n",
              "      <th>char_freq_%24</th>\n",
              "      <th>char_freq_%23</th>\n",
              "      <th>capital_run_length_average</th>\n",
              "      <th>capital_run_length_longest</th>\n",
              "      <th>capital_run_length_total</th>\n",
              "    </tr>\n",
              "  </thead>\n",
              "  <tbody>\n",
              "    <tr>\n",
              "      <th>0</th>\n",
              "      <td>1</td>\n",
              "      <td>0.00</td>\n",
              "      <td>0.64</td>\n",
              "      <td>0.64</td>\n",
              "      <td>0.0</td>\n",
              "      <td>0.32</td>\n",
              "      <td>0.00</td>\n",
              "      <td>0.00</td>\n",
              "      <td>0.00</td>\n",
              "      <td>0.00</td>\n",
              "      <td>0.00</td>\n",
              "      <td>0.00</td>\n",
              "      <td>0.64</td>\n",
              "      <td>0.00</td>\n",
              "      <td>0.00</td>\n",
              "      <td>0.00</td>\n",
              "      <td>0.32</td>\n",
              "      <td>0.00</td>\n",
              "      <td>1.29</td>\n",
              "      <td>1.93</td>\n",
              "      <td>0.00</td>\n",
              "      <td>0.96</td>\n",
              "      <td>0.0</td>\n",
              "      <td>0.00</td>\n",
              "      <td>0.00</td>\n",
              "      <td>0.0</td>\n",
              "      <td>0.0</td>\n",
              "      <td>0.0</td>\n",
              "      <td>0.0</td>\n",
              "      <td>0.0</td>\n",
              "      <td>0.0</td>\n",
              "      <td>0.0</td>\n",
              "      <td>0.0</td>\n",
              "      <td>0.0</td>\n",
              "      <td>0.0</td>\n",
              "      <td>0.0</td>\n",
              "      <td>0.0</td>\n",
              "      <td>0.00</td>\n",
              "      <td>0.0</td>\n",
              "      <td>0.0</td>\n",
              "      <td>0.00</td>\n",
              "      <td>0.0</td>\n",
              "      <td>0.0</td>\n",
              "      <td>0.00</td>\n",
              "      <td>0.0</td>\n",
              "      <td>0.00</td>\n",
              "      <td>0.00</td>\n",
              "      <td>0.0</td>\n",
              "      <td>0.0</td>\n",
              "      <td>0.00</td>\n",
              "      <td>0.000</td>\n",
              "      <td>0.0</td>\n",
              "      <td>0.778</td>\n",
              "      <td>0.000</td>\n",
              "      <td>0.000</td>\n",
              "      <td>3.756</td>\n",
              "      <td>61</td>\n",
              "      <td>278</td>\n",
              "    </tr>\n",
              "    <tr>\n",
              "      <th>1</th>\n",
              "      <td>1</td>\n",
              "      <td>0.21</td>\n",
              "      <td>0.28</td>\n",
              "      <td>0.50</td>\n",
              "      <td>0.0</td>\n",
              "      <td>0.14</td>\n",
              "      <td>0.28</td>\n",
              "      <td>0.21</td>\n",
              "      <td>0.07</td>\n",
              "      <td>0.00</td>\n",
              "      <td>0.94</td>\n",
              "      <td>0.21</td>\n",
              "      <td>0.79</td>\n",
              "      <td>0.65</td>\n",
              "      <td>0.21</td>\n",
              "      <td>0.14</td>\n",
              "      <td>0.14</td>\n",
              "      <td>0.07</td>\n",
              "      <td>0.28</td>\n",
              "      <td>3.47</td>\n",
              "      <td>0.00</td>\n",
              "      <td>1.59</td>\n",
              "      <td>0.0</td>\n",
              "      <td>0.43</td>\n",
              "      <td>0.43</td>\n",
              "      <td>0.0</td>\n",
              "      <td>0.0</td>\n",
              "      <td>0.0</td>\n",
              "      <td>0.0</td>\n",
              "      <td>0.0</td>\n",
              "      <td>0.0</td>\n",
              "      <td>0.0</td>\n",
              "      <td>0.0</td>\n",
              "      <td>0.0</td>\n",
              "      <td>0.0</td>\n",
              "      <td>0.0</td>\n",
              "      <td>0.0</td>\n",
              "      <td>0.07</td>\n",
              "      <td>0.0</td>\n",
              "      <td>0.0</td>\n",
              "      <td>0.00</td>\n",
              "      <td>0.0</td>\n",
              "      <td>0.0</td>\n",
              "      <td>0.00</td>\n",
              "      <td>0.0</td>\n",
              "      <td>0.00</td>\n",
              "      <td>0.00</td>\n",
              "      <td>0.0</td>\n",
              "      <td>0.0</td>\n",
              "      <td>0.00</td>\n",
              "      <td>0.132</td>\n",
              "      <td>0.0</td>\n",
              "      <td>0.372</td>\n",
              "      <td>0.180</td>\n",
              "      <td>0.048</td>\n",
              "      <td>5.114</td>\n",
              "      <td>101</td>\n",
              "      <td>1028</td>\n",
              "    </tr>\n",
              "    <tr>\n",
              "      <th>2</th>\n",
              "      <td>1</td>\n",
              "      <td>0.06</td>\n",
              "      <td>0.00</td>\n",
              "      <td>0.71</td>\n",
              "      <td>0.0</td>\n",
              "      <td>1.23</td>\n",
              "      <td>0.19</td>\n",
              "      <td>0.19</td>\n",
              "      <td>0.12</td>\n",
              "      <td>0.64</td>\n",
              "      <td>0.25</td>\n",
              "      <td>0.38</td>\n",
              "      <td>0.45</td>\n",
              "      <td>0.12</td>\n",
              "      <td>0.00</td>\n",
              "      <td>1.75</td>\n",
              "      <td>0.06</td>\n",
              "      <td>0.06</td>\n",
              "      <td>1.03</td>\n",
              "      <td>1.36</td>\n",
              "      <td>0.32</td>\n",
              "      <td>0.51</td>\n",
              "      <td>0.0</td>\n",
              "      <td>1.16</td>\n",
              "      <td>0.06</td>\n",
              "      <td>0.0</td>\n",
              "      <td>0.0</td>\n",
              "      <td>0.0</td>\n",
              "      <td>0.0</td>\n",
              "      <td>0.0</td>\n",
              "      <td>0.0</td>\n",
              "      <td>0.0</td>\n",
              "      <td>0.0</td>\n",
              "      <td>0.0</td>\n",
              "      <td>0.0</td>\n",
              "      <td>0.0</td>\n",
              "      <td>0.0</td>\n",
              "      <td>0.00</td>\n",
              "      <td>0.0</td>\n",
              "      <td>0.0</td>\n",
              "      <td>0.06</td>\n",
              "      <td>0.0</td>\n",
              "      <td>0.0</td>\n",
              "      <td>0.12</td>\n",
              "      <td>0.0</td>\n",
              "      <td>0.06</td>\n",
              "      <td>0.06</td>\n",
              "      <td>0.0</td>\n",
              "      <td>0.0</td>\n",
              "      <td>0.01</td>\n",
              "      <td>0.143</td>\n",
              "      <td>0.0</td>\n",
              "      <td>0.276</td>\n",
              "      <td>0.184</td>\n",
              "      <td>0.010</td>\n",
              "      <td>9.821</td>\n",
              "      <td>485</td>\n",
              "      <td>2259</td>\n",
              "    </tr>\n",
              "    <tr>\n",
              "      <th>3</th>\n",
              "      <td>1</td>\n",
              "      <td>0.00</td>\n",
              "      <td>0.00</td>\n",
              "      <td>0.00</td>\n",
              "      <td>0.0</td>\n",
              "      <td>0.63</td>\n",
              "      <td>0.00</td>\n",
              "      <td>0.31</td>\n",
              "      <td>0.63</td>\n",
              "      <td>0.31</td>\n",
              "      <td>0.63</td>\n",
              "      <td>0.31</td>\n",
              "      <td>0.31</td>\n",
              "      <td>0.31</td>\n",
              "      <td>0.00</td>\n",
              "      <td>0.00</td>\n",
              "      <td>0.31</td>\n",
              "      <td>0.00</td>\n",
              "      <td>0.00</td>\n",
              "      <td>3.18</td>\n",
              "      <td>0.00</td>\n",
              "      <td>0.31</td>\n",
              "      <td>0.0</td>\n",
              "      <td>0.00</td>\n",
              "      <td>0.00</td>\n",
              "      <td>0.0</td>\n",
              "      <td>0.0</td>\n",
              "      <td>0.0</td>\n",
              "      <td>0.0</td>\n",
              "      <td>0.0</td>\n",
              "      <td>0.0</td>\n",
              "      <td>0.0</td>\n",
              "      <td>0.0</td>\n",
              "      <td>0.0</td>\n",
              "      <td>0.0</td>\n",
              "      <td>0.0</td>\n",
              "      <td>0.0</td>\n",
              "      <td>0.00</td>\n",
              "      <td>0.0</td>\n",
              "      <td>0.0</td>\n",
              "      <td>0.00</td>\n",
              "      <td>0.0</td>\n",
              "      <td>0.0</td>\n",
              "      <td>0.00</td>\n",
              "      <td>0.0</td>\n",
              "      <td>0.00</td>\n",
              "      <td>0.00</td>\n",
              "      <td>0.0</td>\n",
              "      <td>0.0</td>\n",
              "      <td>0.00</td>\n",
              "      <td>0.137</td>\n",
              "      <td>0.0</td>\n",
              "      <td>0.137</td>\n",
              "      <td>0.000</td>\n",
              "      <td>0.000</td>\n",
              "      <td>3.537</td>\n",
              "      <td>40</td>\n",
              "      <td>191</td>\n",
              "    </tr>\n",
              "    <tr>\n",
              "      <th>4</th>\n",
              "      <td>1</td>\n",
              "      <td>0.00</td>\n",
              "      <td>0.00</td>\n",
              "      <td>0.00</td>\n",
              "      <td>0.0</td>\n",
              "      <td>0.63</td>\n",
              "      <td>0.00</td>\n",
              "      <td>0.31</td>\n",
              "      <td>0.63</td>\n",
              "      <td>0.31</td>\n",
              "      <td>0.63</td>\n",
              "      <td>0.31</td>\n",
              "      <td>0.31</td>\n",
              "      <td>0.31</td>\n",
              "      <td>0.00</td>\n",
              "      <td>0.00</td>\n",
              "      <td>0.31</td>\n",
              "      <td>0.00</td>\n",
              "      <td>0.00</td>\n",
              "      <td>3.18</td>\n",
              "      <td>0.00</td>\n",
              "      <td>0.31</td>\n",
              "      <td>0.0</td>\n",
              "      <td>0.00</td>\n",
              "      <td>0.00</td>\n",
              "      <td>0.0</td>\n",
              "      <td>0.0</td>\n",
              "      <td>0.0</td>\n",
              "      <td>0.0</td>\n",
              "      <td>0.0</td>\n",
              "      <td>0.0</td>\n",
              "      <td>0.0</td>\n",
              "      <td>0.0</td>\n",
              "      <td>0.0</td>\n",
              "      <td>0.0</td>\n",
              "      <td>0.0</td>\n",
              "      <td>0.0</td>\n",
              "      <td>0.00</td>\n",
              "      <td>0.0</td>\n",
              "      <td>0.0</td>\n",
              "      <td>0.00</td>\n",
              "      <td>0.0</td>\n",
              "      <td>0.0</td>\n",
              "      <td>0.00</td>\n",
              "      <td>0.0</td>\n",
              "      <td>0.00</td>\n",
              "      <td>0.00</td>\n",
              "      <td>0.0</td>\n",
              "      <td>0.0</td>\n",
              "      <td>0.00</td>\n",
              "      <td>0.135</td>\n",
              "      <td>0.0</td>\n",
              "      <td>0.135</td>\n",
              "      <td>0.000</td>\n",
              "      <td>0.000</td>\n",
              "      <td>3.537</td>\n",
              "      <td>40</td>\n",
              "      <td>191</td>\n",
              "    </tr>\n",
              "  </tbody>\n",
              "</table>\n",
              "</div>"
            ],
            "text/plain": [
              "   class  word_freq_make  ...  capital_run_length_longest  capital_run_length_total\n",
              "0      1            0.00  ...                          61                       278\n",
              "1      1            0.21  ...                         101                      1028\n",
              "2      1            0.06  ...                         485                      2259\n",
              "3      1            0.00  ...                          40                       191\n",
              "4      1            0.00  ...                          40                       191\n",
              "\n",
              "[5 rows x 58 columns]"
            ]
          },
          "metadata": {
            "tags": []
          },
          "execution_count": 38
        }
      ]
    },
    {
      "cell_type": "code",
      "metadata": {
        "colab": {
          "base_uri": "https://localhost:8080/",
          "height": 296
        },
        "id": "QGB_g27aNq9u",
        "outputId": "a94de0d2-14e1-401c-8f94-2701c86e5c9b"
      },
      "source": [
        "# finding how many spam vs non-spam emails there are \n",
        "\n",
        "sns.countplot(x = 'class', data = df)"
      ],
      "execution_count": null,
      "outputs": [
        {
          "output_type": "execute_result",
          "data": {
            "text/plain": [
              "<matplotlib.axes._subplots.AxesSubplot at 0x7fde73f7e850>"
            ]
          },
          "metadata": {
            "tags": []
          },
          "execution_count": 5
        },
        {
          "output_type": "display_data",
          "data": {
            "image/png": "[encoded data removed]",
            "text/plain": [
              "<Figure size 432x288 with 1 Axes>"
            ]
          },
          "metadata": {
            "tags": [],
            "needs_background": "light"
          }
        }
      ]
    },
    {
      "cell_type": "code",
      "metadata": {
        "colab": {
          "base_uri": "https://localhost:8080/",
          "height": 317
        },
        "id": "YeUw7MS6UIkh",
        "outputId": "252745b9-afc0-400b-c711-8cc9f4ceb8a4"
      },
      "source": [
        "df.describe()"
      ],
      "execution_count": null,
      "outputs": [
        {
          "output_type": "execute_result",
          "data": {
            "text/html": [
              "<div>\n",
              "<style scoped>\n",
              "    .dataframe tbody tr th:only-of-type {\n",
              "        vertical-align: middle;\n",
              "    }\n",
              "\n",
              "    .dataframe tbody tr th {\n",
              "        vertical-align: top;\n",
              "    }\n",
              "\n",
              "    .dataframe thead th {\n",
              "        text-align: right;\n",
              "    }\n",
              "</style>\n",
              "<table border=\"1\" class=\"dataframe\">\n",
              "  <thead>\n",
              "    <tr style=\"text-align: right;\">\n",
              "      <th></th>\n",
              "      <th>word_freq_make</th>\n",
              "      <th>word_freq_address</th>\n",
              "      <th>word_freq_all</th>\n",
              "      <th>word_freq_3d</th>\n",
              "      <th>word_freq_our</th>\n",
              "      <th>word_freq_over</th>\n",
              "      <th>word_freq_remove</th>\n",
              "      <th>word_freq_internet</th>\n",
              "      <th>word_freq_order</th>\n",
              "      <th>word_freq_mail</th>\n",
              "      <th>word_freq_receive</th>\n",
              "      <th>word_freq_will</th>\n",
              "      <th>word_freq_people</th>\n",
              "      <th>word_freq_report</th>\n",
              "      <th>word_freq_addresses</th>\n",
              "      <th>word_freq_free</th>\n",
              "      <th>word_freq_business</th>\n",
              "      <th>word_freq_email</th>\n",
              "      <th>word_freq_you</th>\n",
              "      <th>word_freq_credit</th>\n",
              "      <th>word_freq_your</th>\n",
              "      <th>word_freq_font</th>\n",
              "      <th>word_freq_000</th>\n",
              "      <th>word_freq_money</th>\n",
              "      <th>word_freq_hp</th>\n",
              "      <th>word_freq_hpl</th>\n",
              "      <th>word_freq_george</th>\n",
              "      <th>word_freq_650</th>\n",
              "      <th>word_freq_lab</th>\n",
              "      <th>word_freq_labs</th>\n",
              "      <th>word_freq_telnet</th>\n",
              "      <th>word_freq_857</th>\n",
              "      <th>word_freq_data</th>\n",
              "      <th>word_freq_415</th>\n",
              "      <th>word_freq_85</th>\n",
              "      <th>word_freq_technology</th>\n",
              "      <th>word_freq_1999</th>\n",
              "      <th>word_freq_parts</th>\n",
              "      <th>word_freq_pm</th>\n",
              "      <th>word_freq_direct</th>\n",
              "      <th>word_freq_cs</th>\n",
              "      <th>word_freq_meeting</th>\n",
              "      <th>word_freq_original</th>\n",
              "      <th>word_freq_project</th>\n",
              "      <th>word_freq_re</th>\n",
              "      <th>word_freq_edu</th>\n",
              "      <th>word_freq_table</th>\n",
              "      <th>word_freq_conference</th>\n",
              "      <th>char_freq_%3B</th>\n",
              "      <th>char_freq_%28</th>\n",
              "      <th>char_freq_%5B</th>\n",
              "      <th>char_freq_%21</th>\n",
              "      <th>char_freq_%24</th>\n",
              "      <th>char_freq_%23</th>\n",
              "      <th>capital_run_length_average</th>\n",
              "      <th>capital_run_length_longest</th>\n",
              "      <th>capital_run_length_total</th>\n",
              "      <th>class</th>\n",
              "    </tr>\n",
              "  </thead>\n",
              "  <tbody>\n",
              "    <tr>\n",
              "      <th>count</th>\n",
              "      <td>4601.000000</td>\n",
              "      <td>4601.000000</td>\n",
              "      <td>4601.000000</td>\n",
              "      <td>4601.000000</td>\n",
              "      <td>4601.000000</td>\n",
              "      <td>4601.000000</td>\n",
              "      <td>4601.000000</td>\n",
              "      <td>4601.000000</td>\n",
              "      <td>4601.000000</td>\n",
              "      <td>4601.000000</td>\n",
              "      <td>4601.000000</td>\n",
              "      <td>4601.000000</td>\n",
              "      <td>4601.000000</td>\n",
              "      <td>4601.000000</td>\n",
              "      <td>4601.000000</td>\n",
              "      <td>4601.000000</td>\n",
              "      <td>4601.000000</td>\n",
              "      <td>4601.000000</td>\n",
              "      <td>4601.000000</td>\n",
              "      <td>4601.000000</td>\n",
              "      <td>4601.000000</td>\n",
              "      <td>4601.000000</td>\n",
              "      <td>4601.000000</td>\n",
              "      <td>4601.000000</td>\n",
              "      <td>4601.000000</td>\n",
              "      <td>4601.000000</td>\n",
              "      <td>4601.000000</td>\n",
              "      <td>4601.000000</td>\n",
              "      <td>4601.000000</td>\n",
              "      <td>4601.000000</td>\n",
              "      <td>4601.000000</td>\n",
              "      <td>4601.000000</td>\n",
              "      <td>4601.000000</td>\n",
              "      <td>4601.000000</td>\n",
              "      <td>4601.000000</td>\n",
              "      <td>4601.000000</td>\n",
              "      <td>4601.000000</td>\n",
              "      <td>4601.000000</td>\n",
              "      <td>4601.000000</td>\n",
              "      <td>4601.000000</td>\n",
              "      <td>4601.000000</td>\n",
              "      <td>4601.000000</td>\n",
              "      <td>4601.000000</td>\n",
              "      <td>4601.000000</td>\n",
              "      <td>4601.000000</td>\n",
              "      <td>4601.000000</td>\n",
              "      <td>4601.000000</td>\n",
              "      <td>4601.000000</td>\n",
              "      <td>4601.000000</td>\n",
              "      <td>4601.000000</td>\n",
              "      <td>4601.000000</td>\n",
              "      <td>4601.000000</td>\n",
              "      <td>4601.000000</td>\n",
              "      <td>4601.000000</td>\n",
              "      <td>4601.000000</td>\n",
              "      <td>4601.000000</td>\n",
              "      <td>4601.000000</td>\n",
              "      <td>4601.000000</td>\n",
              "    </tr>\n",
              "    <tr>\n",
              "      <th>mean</th>\n",
              "      <td>0.104553</td>\n",
              "      <td>0.213015</td>\n",
              "      <td>0.280656</td>\n",
              "      <td>0.065425</td>\n",
              "      <td>0.312223</td>\n",
              "      <td>0.095901</td>\n",
              "      <td>0.114208</td>\n",
              "      <td>0.105295</td>\n",
              "      <td>0.090067</td>\n",
              "      <td>0.239413</td>\n",
              "      <td>0.059824</td>\n",
              "      <td>0.541702</td>\n",
              "      <td>0.093930</td>\n",
              "      <td>0.058626</td>\n",
              "      <td>0.049205</td>\n",
              "      <td>0.248848</td>\n",
              "      <td>0.142586</td>\n",
              "      <td>0.184745</td>\n",
              "      <td>1.662100</td>\n",
              "      <td>0.085577</td>\n",
              "      <td>0.809761</td>\n",
              "      <td>0.121202</td>\n",
              "      <td>0.101645</td>\n",
              "      <td>0.094269</td>\n",
              "      <td>0.549504</td>\n",
              "      <td>0.265384</td>\n",
              "      <td>0.767305</td>\n",
              "      <td>0.124845</td>\n",
              "      <td>0.098915</td>\n",
              "      <td>0.102852</td>\n",
              "      <td>0.064753</td>\n",
              "      <td>0.047048</td>\n",
              "      <td>0.097229</td>\n",
              "      <td>0.047835</td>\n",
              "      <td>0.105412</td>\n",
              "      <td>0.097477</td>\n",
              "      <td>0.136953</td>\n",
              "      <td>0.013201</td>\n",
              "      <td>0.078629</td>\n",
              "      <td>0.064834</td>\n",
              "      <td>0.043667</td>\n",
              "      <td>0.132339</td>\n",
              "      <td>0.046099</td>\n",
              "      <td>0.079196</td>\n",
              "      <td>0.301224</td>\n",
              "      <td>0.179824</td>\n",
              "      <td>0.005444</td>\n",
              "      <td>0.031869</td>\n",
              "      <td>0.038575</td>\n",
              "      <td>0.139030</td>\n",
              "      <td>0.016976</td>\n",
              "      <td>0.269071</td>\n",
              "      <td>0.075811</td>\n",
              "      <td>0.044238</td>\n",
              "      <td>5.191515</td>\n",
              "      <td>52.172789</td>\n",
              "      <td>283.289285</td>\n",
              "      <td>0.394045</td>\n",
              "    </tr>\n",
              "    <tr>\n",
              "      <th>std</th>\n",
              "      <td>0.305358</td>\n",
              "      <td>1.290575</td>\n",
              "      <td>0.504143</td>\n",
              "      <td>1.395151</td>\n",
              "      <td>0.672513</td>\n",
              "      <td>0.273824</td>\n",
              "      <td>0.391441</td>\n",
              "      <td>0.401071</td>\n",
              "      <td>0.278616</td>\n",
              "      <td>0.644755</td>\n",
              "      <td>0.201545</td>\n",
              "      <td>0.861698</td>\n",
              "      <td>0.301036</td>\n",
              "      <td>0.335184</td>\n",
              "      <td>0.258843</td>\n",
              "      <td>0.825792</td>\n",
              "      <td>0.444055</td>\n",
              "      <td>0.531122</td>\n",
              "      <td>1.775481</td>\n",
              "      <td>0.509767</td>\n",
              "      <td>1.200810</td>\n",
              "      <td>1.025756</td>\n",
              "      <td>0.350286</td>\n",
              "      <td>0.442636</td>\n",
              "      <td>1.671349</td>\n",
              "      <td>0.886955</td>\n",
              "      <td>3.367292</td>\n",
              "      <td>0.538576</td>\n",
              "      <td>0.593327</td>\n",
              "      <td>0.456682</td>\n",
              "      <td>0.403393</td>\n",
              "      <td>0.328559</td>\n",
              "      <td>0.555907</td>\n",
              "      <td>0.329445</td>\n",
              "      <td>0.532260</td>\n",
              "      <td>0.402623</td>\n",
              "      <td>0.423451</td>\n",
              "      <td>0.220651</td>\n",
              "      <td>0.434672</td>\n",
              "      <td>0.349916</td>\n",
              "      <td>0.361205</td>\n",
              "      <td>0.766819</td>\n",
              "      <td>0.223812</td>\n",
              "      <td>0.621976</td>\n",
              "      <td>1.011687</td>\n",
              "      <td>0.911119</td>\n",
              "      <td>0.076274</td>\n",
              "      <td>0.285735</td>\n",
              "      <td>0.243471</td>\n",
              "      <td>0.270355</td>\n",
              "      <td>0.109394</td>\n",
              "      <td>0.815672</td>\n",
              "      <td>0.245882</td>\n",
              "      <td>0.429342</td>\n",
              "      <td>31.729449</td>\n",
              "      <td>194.891310</td>\n",
              "      <td>606.347851</td>\n",
              "      <td>0.488698</td>\n",
              "    </tr>\n",
              "    <tr>\n",
              "      <th>min</th>\n",
              "      <td>0.000000</td>\n",
              "      <td>0.000000</td>\n",
              "      <td>0.000000</td>\n",
              "      <td>0.000000</td>\n",
              "      <td>0.000000</td>\n",
              "      <td>0.000000</td>\n",
              "      <td>0.000000</td>\n",
              "      <td>0.000000</td>\n",
              "      <td>0.000000</td>\n",
              "      <td>0.000000</td>\n",
              "      <td>0.000000</td>\n",
              "      <td>0.000000</td>\n",
              "      <td>0.000000</td>\n",
              "      <td>0.000000</td>\n",
              "      <td>0.000000</td>\n",
              "      <td>0.000000</td>\n",
              "      <td>0.000000</td>\n",
              "      <td>0.000000</td>\n",
              "      <td>0.000000</td>\n",
              "      <td>0.000000</td>\n",
              "      <td>0.000000</td>\n",
              "      <td>0.000000</td>\n",
              "      <td>0.000000</td>\n",
              "      <td>0.000000</td>\n",
              "      <td>0.000000</td>\n",
              "      <td>0.000000</td>\n",
              "      <td>0.000000</td>\n",
              "      <td>0.000000</td>\n",
              "      <td>0.000000</td>\n",
              "      <td>0.000000</td>\n",
              "      <td>0.000000</td>\n",
              "      <td>0.000000</td>\n",
              "      <td>0.000000</td>\n",
              "      <td>0.000000</td>\n",
              "      <td>0.000000</td>\n",
              "      <td>0.000000</td>\n",
              "      <td>0.000000</td>\n",
              "      <td>0.000000</td>\n",
              "      <td>0.000000</td>\n",
              "      <td>0.000000</td>\n",
              "      <td>0.000000</td>\n",
              "      <td>0.000000</td>\n",
              "      <td>0.000000</td>\n",
              "      <td>0.000000</td>\n",
              "      <td>0.000000</td>\n",
              "      <td>0.000000</td>\n",
              "      <td>0.000000</td>\n",
              "      <td>0.000000</td>\n",
              "      <td>0.000000</td>\n",
              "      <td>0.000000</td>\n",
              "      <td>0.000000</td>\n",
              "      <td>0.000000</td>\n",
              "      <td>0.000000</td>\n",
              "      <td>0.000000</td>\n",
              "      <td>1.000000</td>\n",
              "      <td>1.000000</td>\n",
              "      <td>1.000000</td>\n",
              "      <td>0.000000</td>\n",
              "    </tr>\n",
              "    <tr>\n",
              "      <th>25%</th>\n",
              "      <td>0.000000</td>\n",
              "      <td>0.000000</td>\n",
              "      <td>0.000000</td>\n",
              "      <td>0.000000</td>\n",
              "      <td>0.000000</td>\n",
              "      <td>0.000000</td>\n",
              "      <td>0.000000</td>\n",
              "      <td>0.000000</td>\n",
              "      <td>0.000000</td>\n",
              "      <td>0.000000</td>\n",
              "      <td>0.000000</td>\n",
              "      <td>0.000000</td>\n",
              "      <td>0.000000</td>\n",
              "      <td>0.000000</td>\n",
              "      <td>0.000000</td>\n",
              "      <td>0.000000</td>\n",
              "      <td>0.000000</td>\n",
              "      <td>0.000000</td>\n",
              "      <td>0.000000</td>\n",
              "      <td>0.000000</td>\n",
              "      <td>0.000000</td>\n",
              "      <td>0.000000</td>\n",
              "      <td>0.000000</td>\n",
              "      <td>0.000000</td>\n",
              "      <td>0.000000</td>\n",
              "      <td>0.000000</td>\n",
              "      <td>0.000000</td>\n",
              "      <td>0.000000</td>\n",
              "      <td>0.000000</td>\n",
              "      <td>0.000000</td>\n",
              "      <td>0.000000</td>\n",
              "      <td>0.000000</td>\n",
              "      <td>0.000000</td>\n",
              "      <td>0.000000</td>\n",
              "      <td>0.000000</td>\n",
              "      <td>0.000000</td>\n",
              "      <td>0.000000</td>\n",
              "      <td>0.000000</td>\n",
              "      <td>0.000000</td>\n",
              "      <td>0.000000</td>\n",
              "      <td>0.000000</td>\n",
              "      <td>0.000000</td>\n",
              "      <td>0.000000</td>\n",
              "      <td>0.000000</td>\n",
              "      <td>0.000000</td>\n",
              "      <td>0.000000</td>\n",
              "      <td>0.000000</td>\n",
              "      <td>0.000000</td>\n",
              "      <td>0.000000</td>\n",
              "      <td>0.000000</td>\n",
              "      <td>0.000000</td>\n",
              "      <td>0.000000</td>\n",
              "      <td>0.000000</td>\n",
              "      <td>0.000000</td>\n",
              "      <td>1.588000</td>\n",
              "      <td>6.000000</td>\n",
              "      <td>35.000000</td>\n",
              "      <td>0.000000</td>\n",
              "    </tr>\n",
              "    <tr>\n",
              "      <th>50%</th>\n",
              "      <td>0.000000</td>\n",
              "      <td>0.000000</td>\n",
              "      <td>0.000000</td>\n",
              "      <td>0.000000</td>\n",
              "      <td>0.000000</td>\n",
              "      <td>0.000000</td>\n",
              "      <td>0.000000</td>\n",
              "      <td>0.000000</td>\n",
              "      <td>0.000000</td>\n",
              "      <td>0.000000</td>\n",
              "      <td>0.000000</td>\n",
              "      <td>0.100000</td>\n",
              "      <td>0.000000</td>\n",
              "      <td>0.000000</td>\n",
              "      <td>0.000000</td>\n",
              "      <td>0.000000</td>\n",
              "      <td>0.000000</td>\n",
              "      <td>0.000000</td>\n",
              "      <td>1.310000</td>\n",
              "      <td>0.000000</td>\n",
              "      <td>0.220000</td>\n",
              "      <td>0.000000</td>\n",
              "      <td>0.000000</td>\n",
              "      <td>0.000000</td>\n",
              "      <td>0.000000</td>\n",
              "      <td>0.000000</td>\n",
              "      <td>0.000000</td>\n",
              "      <td>0.000000</td>\n",
              "      <td>0.000000</td>\n",
              "      <td>0.000000</td>\n",
              "      <td>0.000000</td>\n",
              "      <td>0.000000</td>\n",
              "      <td>0.000000</td>\n",
              "      <td>0.000000</td>\n",
              "      <td>0.000000</td>\n",
              "      <td>0.000000</td>\n",
              "      <td>0.000000</td>\n",
              "      <td>0.000000</td>\n",
              "      <td>0.000000</td>\n",
              "      <td>0.000000</td>\n",
              "      <td>0.000000</td>\n",
              "      <td>0.000000</td>\n",
              "      <td>0.000000</td>\n",
              "      <td>0.000000</td>\n",
              "      <td>0.000000</td>\n",
              "      <td>0.000000</td>\n",
              "      <td>0.000000</td>\n",
              "      <td>0.000000</td>\n",
              "      <td>0.000000</td>\n",
              "      <td>0.065000</td>\n",
              "      <td>0.000000</td>\n",
              "      <td>0.000000</td>\n",
              "      <td>0.000000</td>\n",
              "      <td>0.000000</td>\n",
              "      <td>2.276000</td>\n",
              "      <td>15.000000</td>\n",
              "      <td>95.000000</td>\n",
              "      <td>0.000000</td>\n",
              "    </tr>\n",
              "    <tr>\n",
              "      <th>75%</th>\n",
              "      <td>0.000000</td>\n",
              "      <td>0.000000</td>\n",
              "      <td>0.420000</td>\n",
              "      <td>0.000000</td>\n",
              "      <td>0.380000</td>\n",
              "      <td>0.000000</td>\n",
              "      <td>0.000000</td>\n",
              "      <td>0.000000</td>\n",
              "      <td>0.000000</td>\n",
              "      <td>0.160000</td>\n",
              "      <td>0.000000</td>\n",
              "      <td>0.800000</td>\n",
              "      <td>0.000000</td>\n",
              "      <td>0.000000</td>\n",
              "      <td>0.000000</td>\n",
              "      <td>0.100000</td>\n",
              "      <td>0.000000</td>\n",
              "      <td>0.000000</td>\n",
              "      <td>2.640000</td>\n",
              "      <td>0.000000</td>\n",
              "      <td>1.270000</td>\n",
              "      <td>0.000000</td>\n",
              "      <td>0.000000</td>\n",
              "      <td>0.000000</td>\n",
              "      <td>0.000000</td>\n",
              "      <td>0.000000</td>\n",
              "      <td>0.000000</td>\n",
              "      <td>0.000000</td>\n",
              "      <td>0.000000</td>\n",
              "      <td>0.000000</td>\n",
              "      <td>0.000000</td>\n",
              "      <td>0.000000</td>\n",
              "      <td>0.000000</td>\n",
              "      <td>0.000000</td>\n",
              "      <td>0.000000</td>\n",
              "      <td>0.000000</td>\n",
              "      <td>0.000000</td>\n",
              "      <td>0.000000</td>\n",
              "      <td>0.000000</td>\n",
              "      <td>0.000000</td>\n",
              "      <td>0.000000</td>\n",
              "      <td>0.000000</td>\n",
              "      <td>0.000000</td>\n",
              "      <td>0.000000</td>\n",
              "      <td>0.110000</td>\n",
              "      <td>0.000000</td>\n",
              "      <td>0.000000</td>\n",
              "      <td>0.000000</td>\n",
              "      <td>0.000000</td>\n",
              "      <td>0.188000</td>\n",
              "      <td>0.000000</td>\n",
              "      <td>0.315000</td>\n",
              "      <td>0.052000</td>\n",
              "      <td>0.000000</td>\n",
              "      <td>3.706000</td>\n",
              "      <td>43.000000</td>\n",
              "      <td>266.000000</td>\n",
              "      <td>1.000000</td>\n",
              "    </tr>\n",
              "    <tr>\n",
              "      <th>max</th>\n",
              "      <td>4.540000</td>\n",
              "      <td>14.280000</td>\n",
              "      <td>5.100000</td>\n",
              "      <td>42.810000</td>\n",
              "      <td>10.000000</td>\n",
              "      <td>5.880000</td>\n",
              "      <td>7.270000</td>\n",
              "      <td>11.110000</td>\n",
              "      <td>5.260000</td>\n",
              "      <td>18.180000</td>\n",
              "      <td>2.610000</td>\n",
              "      <td>9.670000</td>\n",
              "      <td>5.550000</td>\n",
              "      <td>10.000000</td>\n",
              "      <td>4.410000</td>\n",
              "      <td>20.000000</td>\n",
              "      <td>7.140000</td>\n",
              "      <td>9.090000</td>\n",
              "      <td>18.750000</td>\n",
              "      <td>18.180000</td>\n",
              "      <td>11.110000</td>\n",
              "      <td>17.100000</td>\n",
              "      <td>5.450000</td>\n",
              "      <td>12.500000</td>\n",
              "      <td>20.830000</td>\n",
              "      <td>16.660000</td>\n",
              "      <td>33.330000</td>\n",
              "      <td>9.090000</td>\n",
              "      <td>14.280000</td>\n",
              "      <td>5.880000</td>\n",
              "      <td>12.500000</td>\n",
              "      <td>4.760000</td>\n",
              "      <td>18.180000</td>\n",
              "      <td>4.760000</td>\n",
              "      <td>20.000000</td>\n",
              "      <td>7.690000</td>\n",
              "      <td>6.890000</td>\n",
              "      <td>8.330000</td>\n",
              "      <td>11.110000</td>\n",
              "      <td>4.760000</td>\n",
              "      <td>7.140000</td>\n",
              "      <td>14.280000</td>\n",
              "      <td>3.570000</td>\n",
              "      <td>20.000000</td>\n",
              "      <td>21.420000</td>\n",
              "      <td>22.050000</td>\n",
              "      <td>2.170000</td>\n",
              "      <td>10.000000</td>\n",
              "      <td>4.385000</td>\n",
              "      <td>9.752000</td>\n",
              "      <td>4.081000</td>\n",
              "      <td>32.478000</td>\n",
              "      <td>6.003000</td>\n",
              "      <td>19.829000</td>\n",
              "      <td>1102.500000</td>\n",
              "      <td>9989.000000</td>\n",
              "      <td>15841.000000</td>\n",
              "      <td>1.000000</td>\n",
              "    </tr>\n",
              "  </tbody>\n",
              "</table>\n",
              "</div>"
            ],
            "text/plain": [
              "       word_freq_make  word_freq_address  ...  capital_run_length_total        class\n",
              "count     4601.000000        4601.000000  ...               4601.000000  4601.000000\n",
              "mean         0.104553           0.213015  ...                283.289285     0.394045\n",
              "std          0.305358           1.290575  ...                606.347851     0.488698\n",
              "min          0.000000           0.000000  ...                  1.000000     0.000000\n",
              "25%          0.000000           0.000000  ...                 35.000000     0.000000\n",
              "50%          0.000000           0.000000  ...                 95.000000     0.000000\n",
              "75%          0.000000           0.000000  ...                266.000000     1.000000\n",
              "max          4.540000          14.280000  ...              15841.000000     1.000000\n",
              "\n",
              "[8 rows x 58 columns]"
            ]
          },
          "metadata": {
            "tags": []
          },
          "execution_count": 6
        }
      ]
    },
    {
      "cell_type": "code",
      "metadata": {
        "colab": {
          "base_uri": "https://localhost:8080/"
        },
        "id": "PS4Zf35lVY4Y",
        "outputId": "fd54e06d-8607-4e0f-8c7e-34aa239ede55"
      },
      "source": [
        "# checking for null values\n",
        "\n",
        "print(df.isnull().any())"
      ],
      "execution_count": null,
      "outputs": [
        {
          "output_type": "stream",
          "text": [
            "word_freq_make                False\n",
            "word_freq_address             False\n",
            "word_freq_all                 False\n",
            "word_freq_3d                  False\n",
            "word_freq_our                 False\n",
            "word_freq_over                False\n",
            "word_freq_remove              False\n",
            "word_freq_internet            False\n",
            "word_freq_order               False\n",
            "word_freq_mail                False\n",
            "word_freq_receive             False\n",
            "word_freq_will                False\n",
            "word_freq_people              False\n",
            "word_freq_report              False\n",
            "word_freq_addresses           False\n",
            "word_freq_free                False\n",
            "word_freq_business            False\n",
            "word_freq_email               False\n",
            "word_freq_you                 False\n",
            "word_freq_credit              False\n",
            "word_freq_your                False\n",
            "word_freq_font                False\n",
            "word_freq_000                 False\n",
            "word_freq_money               False\n",
            "word_freq_hp                  False\n",
            "word_freq_hpl                 False\n",
            "word_freq_george              False\n",
            "word_freq_650                 False\n",
            "word_freq_lab                 False\n",
            "word_freq_labs                False\n",
            "word_freq_telnet              False\n",
            "word_freq_857                 False\n",
            "word_freq_data                False\n",
            "word_freq_415                 False\n",
            "word_freq_85                  False\n",
            "word_freq_technology          False\n",
            "word_freq_1999                False\n",
            "word_freq_parts               False\n",
            "word_freq_pm                  False\n",
            "word_freq_direct              False\n",
            "word_freq_cs                  False\n",
            "word_freq_meeting             False\n",
            "word_freq_original            False\n",
            "word_freq_project             False\n",
            "word_freq_re                  False\n",
            "word_freq_edu                 False\n",
            "word_freq_table               False\n",
            "word_freq_conference          False\n",
            "char_freq_%3B                 False\n",
            "char_freq_%28                 False\n",
            "char_freq_%5B                 False\n",
            "char_freq_%21                 False\n",
            "char_freq_%24                 False\n",
            "char_freq_%23                 False\n",
            "capital_run_length_average    False\n",
            "capital_run_length_longest    False\n",
            "capital_run_length_total      False\n",
            "class                         False\n",
            "dtype: bool\n"
          ],
          "name": "stdout"
        }
      ]
    },
    {
      "cell_type": "code",
      "metadata": {
        "colab": {
          "base_uri": "https://localhost:8080/"
        },
        "id": "WolwrTf-V3IM",
        "outputId": "e0af18f1-8b46-436b-d226-34b62073532a"
      },
      "source": [
        "# looking deeper into data \n",
        "\n",
        "df.info()"
      ],
      "execution_count": null,
      "outputs": [
        {
          "output_type": "stream",
          "text": [
            "<class 'pandas.core.frame.DataFrame'>\n",
            "RangeIndex: 4601 entries, 0 to 4600\n",
            "Data columns (total 58 columns):\n",
            " #   Column                      Non-Null Count  Dtype  \n",
            "---  ------                      --------------  -----  \n",
            " 0   word_freq_make              4601 non-null   float64\n",
            " 1   word_freq_address           4601 non-null   float64\n",
            " 2   word_freq_all               4601 non-null   float64\n",
            " 3   word_freq_3d                4601 non-null   float64\n",
            " 4   word_freq_our               4601 non-null   float64\n",
            " 5   word_freq_over              4601 non-null   float64\n",
            " 6   word_freq_remove            4601 non-null   float64\n",
            " 7   word_freq_internet          4601 non-null   float64\n",
            " 8   word_freq_order             4601 non-null   float64\n",
            " 9   word_freq_mail              4601 non-null   float64\n",
            " 10  word_freq_receive           4601 non-null   float64\n",
            " 11  word_freq_will              4601 non-null   float64\n",
            " 12  word_freq_people            4601 non-null   float64\n",
            " 13  word_freq_report            4601 non-null   float64\n",
            " 14  word_freq_addresses         4601 non-null   float64\n",
            " 15  word_freq_free              4601 non-null   float64\n",
            " 16  word_freq_business          4601 non-null   float64\n",
            " 17  word_freq_email             4601 non-null   float64\n",
            " 18  word_freq_you               4601 non-null   float64\n",
            " 19  word_freq_credit            4601 non-null   float64\n",
            " 20  word_freq_your              4601 non-null   float64\n",
            " 21  word_freq_font              4601 non-null   float64\n",
            " 22  word_freq_000               4601 non-null   float64\n",
            " 23  word_freq_money             4601 non-null   float64\n",
            " 24  word_freq_hp                4601 non-null   float64\n",
            " 25  word_freq_hpl               4601 non-null   float64\n",
            " 26  word_freq_george            4601 non-null   float64\n",
            " 27  word_freq_650               4601 non-null   float64\n",
            " 28  word_freq_lab               4601 non-null   float64\n",
            " 29  word_freq_labs              4601 non-null   float64\n",
            " 30  word_freq_telnet            4601 non-null   float64\n",
            " 31  word_freq_857               4601 non-null   float64\n",
            " 32  word_freq_data              4601 non-null   float64\n",
            " 33  word_freq_415               4601 non-null   float64\n",
            " 34  word_freq_85                4601 non-null   float64\n",
            " 35  word_freq_technology        4601 non-null   float64\n",
            " 36  word_freq_1999              4601 non-null   float64\n",
            " 37  word_freq_parts             4601 non-null   float64\n",
            " 38  word_freq_pm                4601 non-null   float64\n",
            " 39  word_freq_direct            4601 non-null   float64\n",
            " 40  word_freq_cs                4601 non-null   float64\n",
            " 41  word_freq_meeting           4601 non-null   float64\n",
            " 42  word_freq_original          4601 non-null   float64\n",
            " 43  word_freq_project           4601 non-null   float64\n",
            " 44  word_freq_re                4601 non-null   float64\n",
            " 45  word_freq_edu               4601 non-null   float64\n",
            " 46  word_freq_table             4601 non-null   float64\n",
            " 47  word_freq_conference        4601 non-null   float64\n",
            " 48  char_freq_%3B               4601 non-null   float64\n",
            " 49  char_freq_%28               4601 non-null   float64\n",
            " 50  char_freq_%5B               4601 non-null   float64\n",
            " 51  char_freq_%21               4601 non-null   float64\n",
            " 52  char_freq_%24               4601 non-null   float64\n",
            " 53  char_freq_%23               4601 non-null   float64\n",
            " 54  capital_run_length_average  4601 non-null   float64\n",
            " 55  capital_run_length_longest  4601 non-null   int64  \n",
            " 56  capital_run_length_total    4601 non-null   int64  \n",
            " 57  class                       4601 non-null   int64  \n",
            "dtypes: float64(55), int64(3)\n",
            "memory usage: 2.0 MB\n"
          ],
          "name": "stdout"
        }
      ]
    },
    {
      "cell_type": "code",
      "metadata": {
        "colab": {
          "base_uri": "https://localhost:8080/"
        },
        "id": "nyY7qmJBWHtO",
        "outputId": "11bfc505-0f6f-4f91-baa7-86d68514aa59"
      },
      "source": [
        "# checking the shape\n",
        "\n",
        "df.shape"
      ],
      "execution_count": null,
      "outputs": [
        {
          "output_type": "execute_result",
          "data": {
            "text/plain": [
              "(4601, 58)"
            ]
          },
          "metadata": {
            "tags": []
          },
          "execution_count": 9
        }
      ]
    },
    {
      "cell_type": "markdown",
      "metadata": {
        "id": "wKXK_OL8W-Qf"
      },
      "source": [
        "**Starting the Machine Learning Process**"
      ]
    },
    {
      "cell_type": "code",
      "metadata": {
        "id": "Nl7_nD0hXTGE"
      },
      "source": [
        "from sklearn.model_selection import train_test_split"
      ],
      "execution_count": null,
      "outputs": []
    },
    {
      "cell_type": "code",
      "metadata": {
        "id": "Qmja_1NOZ79b"
      },
      "source": [
        "\n",
        "# shift column 'class' to first position\n",
        "first_column = df.pop('class')\n",
        "  \n",
        "df.insert(0, 'class', first_column)"
      ],
      "execution_count": null,
      "outputs": []
    },
    {
      "cell_type": "code",
      "metadata": {
        "id": "U-mLNcMAaXel"
      },
      "source": [
        "X = df.iloc[:,1:]\n",
        "y = df.iloc[:,0]"
      ],
      "execution_count": null,
      "outputs": []
    },
    {
      "cell_type": "code",
      "metadata": {
        "id": "AXwgC9zXa3Jz"
      },
      "source": [
        "# partition data into training and testing sets\n",
        "X_train, X_test, y_train, y_test = train_test_split(\n",
        "                                                    X,\n",
        "                                                    y,\n",
        "                                                    test_size=0.3,\n",
        "                                                    stratify=y,\n",
        "                                                    random_state=42\n",
        "                                                    )"
      ],
      "execution_count": null,
      "outputs": []
    },
    {
      "cell_type": "code",
      "metadata": {
        "colab": {
          "base_uri": "https://localhost:8080/"
        },
        "id": "pQMVAEsOa4d_",
        "outputId": "14e5e8c3-01dc-4d3a-c90b-30479d4c5bbd"
      },
      "source": [
        "# computing baseline accuracy \n",
        "from sklearn.dummy import DummyClassifier\n",
        "\n",
        "dummy_classifier = DummyClassifier(strategy='most_frequent')\n",
        "dummy_classifier.fit(X_train,y_train)\n",
        "baseline_acc = dummy_classifier.score(X_test,y_test)\n",
        "\n",
        "\n",
        "### For verifying answer:\n",
        "print(\"Baseline Accuracy = \", baseline_acc)"
      ],
      "execution_count": null,
      "outputs": [
        {
          "output_type": "stream",
          "text": [
            "Baseline Accuracy =  0.6060825488776249\n"
          ],
          "name": "stdout"
        }
      ]
    },
    {
      "cell_type": "markdown",
      "metadata": {
        "id": "Hsffjzoxb9q2"
      },
      "source": [
        "**What to try first?**\n",
        "\n",
        "Lets try boostrap sampling methods. This is doing random sample with replacement. This means that we can actually sample the same sample twice. We can try Skikit Learns \"Bagging Classifer\". This is method fits base classifers on random subsets of the data and then aggergates their individual predictions."
      ]
    },
    {
      "cell_type": "code",
      "metadata": {
        "id": "rHRcRVDUd6yC"
      },
      "source": [
        "from sklearn.ensemble import BaggingClassifier\n",
        "from sklearn.metrics import accuracy_score"
      ],
      "execution_count": null,
      "outputs": []
    },
    {
      "cell_type": "code",
      "metadata": {
        "colab": {
          "base_uri": "https://localhost:8080/"
        },
        "id": "fuPRGYGDd1F9",
        "outputId": "2da1ef24-50fc-4c80-a83a-dbd550828185"
      },
      "source": [
        "baggingclassifer = BaggingClassifier(random_state= 42)\n",
        "baggingclassifer.fit(X_train,y_train)\n",
        "predict_bagging_score = baggingclassifer.predict(X_test)\n",
        "accuracy_score_baggingclassifer = accuracy_score(y_test,predict_bagging_score)\n",
        "print(accuracy_score_baggingclassifer)"
      ],
      "execution_count": null,
      "outputs": [
        {
          "output_type": "stream",
          "text": [
            "0.9312092686459088\n"
          ],
          "name": "stdout"
        }
      ]
    },
    {
      "cell_type": "markdown",
      "metadata": {
        "id": "007bSTzNe5O5"
      },
      "source": [
        "**Next, lets try Random Forest Classifation.** This is also another bagging method. This method is great because the trees within the algorithm are *de-corrleated*. By de-correlating the trees within the algorithm, we reduce the variance. This is because high correlated trees in an ensamble method could have features that weigh very heavily resulting low bias and high variance. In a Random Decision Forest, each tree will spit out a predition and the class with the most votes will become the output. "
      ]
    },
    {
      "cell_type": "code",
      "metadata": {
        "id": "sZf75YHUj2dY"
      },
      "source": [
        "from sklearn.ensemble import RandomForestClassifier"
      ],
      "execution_count": null,
      "outputs": []
    },
    {
      "cell_type": "code",
      "metadata": {
        "colab": {
          "base_uri": "https://localhost:8080/"
        },
        "id": "PAxpD3IKj4yZ",
        "outputId": "3c55cc28-5c53-4a8b-b8ba-b8fc26fe175d"
      },
      "source": [
        "randomForestClassifer = RandomForestClassifier(n_estimators=10,max_features=10, random_state= 42)\n",
        "randomForestClassifer.fit(X_train,y_train)\n",
        "predict_randomforest_score = randomForestClassifer.predict(X_test)\n",
        "accuracy_score_randomforest = accuracy_score(y_test,predict_randomforest_score)\n",
        "print(accuracy_score_randomforest)"
      ],
      "execution_count": null,
      "outputs": [
        {
          "output_type": "stream",
          "text": [
            "0.939174511223751\n"
          ],
          "name": "stdout"
        }
      ]
    },
    {
      "cell_type": "markdown",
      "metadata": {
        "id": "RTGqWxduxO0A"
      },
      "source": [
        "What if we decided to increase the amount of trees and decrease the amount of features?"
      ]
    },
    {
      "cell_type": "code",
      "metadata": {
        "colab": {
          "base_uri": "https://localhost:8080/"
        },
        "id": "dF-800o-vUSu",
        "outputId": "fcaa0532-e35e-473e-b822-be59f6d0d5c1"
      },
      "source": [
        "randomForestClassifer = RandomForestClassifier(n_estimators=100,max_features =5, random_state= 42)\n",
        "randomForestClassifer.fit(X_train,y_train)\n",
        "predict_randomforest_score = randomForestClassifer.predict(X_test)\n",
        "accuracy_score_randomforest = accuracy_score(y_test,predict_randomforest_score)\n",
        "print(accuracy_score_randomforest)"
      ],
      "execution_count": null,
      "outputs": [
        {
          "output_type": "stream",
          "text": [
            "0.9543808834178131\n"
          ],
          "name": "stdout"
        }
      ]
    },
    {
      "cell_type": "markdown",
      "metadata": {
        "id": "D3izQAOmyVjo"
      },
      "source": [
        "Lets see a report on our Random Forest Decision Tree."
      ]
    },
    {
      "cell_type": "code",
      "metadata": {
        "colab": {
          "base_uri": "https://localhost:8080/"
        },
        "id": "0HcWvrV3xEaM",
        "outputId": "c462a6db-3170-4220-a7bd-59d2cc92bc80"
      },
      "source": [
        "from sklearn.metrics import classification_report, confusion_matrix, accuracy_score\n",
        "\n",
        "print(confusion_matrix(y_test,predict_randomforest_score))\n",
        "print(classification_report(y_test,predict_randomforest_score))\n",
        "print(accuracy_score(y_test, predict_randomforest_score))"
      ],
      "execution_count": null,
      "outputs": [
        {
          "output_type": "stream",
          "text": [
            "[[815  22]\n",
            " [ 41 503]]\n",
            "              precision    recall  f1-score   support\n",
            "\n",
            "           0       0.95      0.97      0.96       837\n",
            "           1       0.96      0.92      0.94       544\n",
            "\n",
            "    accuracy                           0.95      1381\n",
            "   macro avg       0.96      0.95      0.95      1381\n",
            "weighted avg       0.95      0.95      0.95      1381\n",
            "\n",
            "0.9543808834178131\n"
          ],
          "name": "stdout"
        }
      ]
    },
    {
      "cell_type": "markdown",
      "metadata": {
        "id": "bO2Sqdix0JYu"
      },
      "source": [
        "Lets see the first tree within our Random Forest Classifer "
      ]
    },
    {
      "cell_type": "code",
      "metadata": {
        "colab": {
          "base_uri": "https://localhost:8080/",
          "height": 1000
        },
        "id": "q09E3ukCyt-8",
        "outputId": "de4b5220-8568-4ad9-f084-eed57948e830"
      },
      "source": [
        "from sklearn import tree\n",
        "from matplotlib import pyplot as plt\n",
        "plt.figure(figsize=(20,20))\n",
        "_ = tree.plot_tree(randomForestClassifer.estimators_[1], feature_names=X.columns, filled=True)"
      ],
      "execution_count": null,
      "outputs": [
        {
          "output_type": "display_data",
          "data": {
            "image/png": "[encoded data removed]",
            "text/plain": [
              "<Figure size 1440x1440 with 1 Axes>"
            ]
          },
          "metadata": {
            "tags": [],
            "needs_background": "light"
          }
        }
      ]
    },
    {
      "cell_type": "markdown",
      "metadata": {
        "id": "VvAcg0on7o8R"
      },
      "source": [
        "Lets see the feature importance of the Random Forect Classifer"
      ]
    },
    {
      "cell_type": "code",
      "metadata": {
        "colab": {
          "base_uri": "https://localhost:8080/"
        },
        "id": "fBtkOYoT7vUy",
        "outputId": "058dbdbc-193d-4700-9e46-f973f6d9f7ed"
      },
      "source": [
        "feature_importances = randomForestClassifer.feature_importances_\n",
        "features = X_train.columns\n",
        "df1 = pd.DataFrame({'features': features, 'importance': feature_importances}).nlargest\n",
        "print(df1)"
      ],
      "execution_count": null,
      "outputs": [
        {
          "output_type": "stream",
          "text": [
            "<bound method DataFrame.nlargest of                       features  importance\n",
            "0               word_freq_make    0.004821\n",
            "1            word_freq_address    0.005271\n",
            "2                word_freq_all    0.016380\n",
            "3                 word_freq_3d    0.000659\n",
            "4                word_freq_our    0.032858\n",
            "5               word_freq_over    0.010895\n",
            "6             word_freq_remove    0.058382\n",
            "7           word_freq_internet    0.015316\n",
            "8              word_freq_order    0.006843\n",
            "9               word_freq_mail    0.012221\n",
            "10           word_freq_receive    0.010902\n",
            "11              word_freq_will    0.013136\n",
            "12            word_freq_people    0.004399\n",
            "13            word_freq_report    0.001883\n",
            "14         word_freq_addresses    0.002509\n",
            "15              word_freq_free    0.064778\n",
            "16          word_freq_business    0.013189\n",
            "17             word_freq_email    0.012240\n",
            "18               word_freq_you    0.030581\n",
            "19            word_freq_credit    0.007259\n",
            "20              word_freq_your    0.046996\n",
            "21              word_freq_font    0.002526\n",
            "22               word_freq_000    0.030834\n",
            "23             word_freq_money    0.031378\n",
            "24                word_freq_hp    0.037652\n",
            "25               word_freq_hpl    0.014521\n",
            "26            word_freq_george    0.022484\n",
            "27               word_freq_650    0.006637\n",
            "28               word_freq_lab    0.002681\n",
            "29              word_freq_labs    0.006490\n",
            "30            word_freq_telnet    0.002098\n",
            "31               word_freq_857    0.001013\n",
            "32              word_freq_data    0.003541\n",
            "33               word_freq_415    0.000526\n",
            "34                word_freq_85    0.006639\n",
            "35        word_freq_technology    0.004335\n",
            "36              word_freq_1999    0.012684\n",
            "37             word_freq_parts    0.000722\n",
            "38                word_freq_pm    0.003385\n",
            "39            word_freq_direct    0.001276\n",
            "40                word_freq_cs    0.000869\n",
            "41           word_freq_meeting    0.006265\n",
            "42          word_freq_original    0.002102\n",
            "43           word_freq_project    0.002370\n",
            "44                word_freq_re    0.011383\n",
            "45               word_freq_edu    0.014458\n",
            "46             word_freq_table    0.000397\n",
            "47        word_freq_conference    0.001177\n",
            "48               char_freq_%3B    0.005618\n",
            "49               char_freq_%28    0.013453\n",
            "50               char_freq_%5B    0.003069\n",
            "51               char_freq_%21    0.111893\n",
            "52               char_freq_%24    0.088582\n",
            "53               char_freq_%23    0.005725\n",
            "54  capital_run_length_average    0.062076\n",
            "55  capital_run_length_longest    0.067397\n",
            "56    capital_run_length_total    0.040226>\n"
          ],
          "name": "stdout"
        }
      ]
    },
    {
      "cell_type": "markdown",
      "metadata": {
        "id": "V569iq3i2Jed"
      },
      "source": [
        "**Lets next try some bagging methods.** Bagging still does the sampling with replacement, however there is still some fundemental differences. Bagging allows us to choose instances of the data that had been modeled poorly in subsequent bags and weight them according to this error. Lets first try the Ada boost algorithm. This algorithm has equal weights for all data points at the beginning.As Adaboost goes through each bag, it will increase the weights for misclassified observations. "
      ]
    },
    {
      "cell_type": "code",
      "metadata": {
        "colab": {
          "base_uri": "https://localhost:8080/"
        },
        "id": "F7qlznmw4Y36",
        "outputId": "f23353f8-27fa-4f96-b60c-2bac93b5cb6f"
      },
      "source": [
        "from sklearn.ensemble import AdaBoostClassifier\n",
        "from sklearn.tree import DecisionTreeClassifier\n",
        "\n",
        "base_est = DecisionTreeClassifier (max_depth =2)\n",
        "ada_boost = AdaBoostClassifier(base_est, n_estimators=500, random_state=42, learning_rate=.05)\n",
        "ada_boost.fit(X_train, y_train)\n",
        "predict_adaboost_score = ada_boost.predict(X_test)\n",
        "accuracy_score_adaboost = accuracy_score(y_test,predict_adaboost_score)\n",
        "print(accuracy_score_adaboost)"
      ],
      "execution_count": null,
      "outputs": [
        {
          "output_type": "stream",
          "text": [
            "0.9551049963794352\n"
          ],
          "name": "stdout"
        }
      ]
    },
    {
      "cell_type": "markdown",
      "metadata": {
        "id": "4Eg3m1ba5WJv"
      },
      "source": [
        "**Next, lets try Gradiant Boosted Trees(GBT).** This is also a bagging method, which attempts to fix errors of preceding models. "
      ]
    },
    {
      "cell_type": "code",
      "metadata": {
        "colab": {
          "base_uri": "https://localhost:8080/"
        },
        "id": "hxUqkgOX6OxU",
        "outputId": "b96622dd-9c94-4f65-f3ae-ca08d33c8ee7"
      },
      "source": [
        "from sklearn.ensemble import GradientBoostingClassifier\n",
        "gradientBoostingClassifier = GradientBoostingClassifier()\n",
        "gradientBoostingClassifier.fit(X_train,y_train)\n",
        "predict_gradientBoostingClassifier = gradientBoostingClassifier.predict(X_test)\n",
        "accuracy_score_gradientBoostingClassifier = accuracy_score(y_test,predict_gradientBoostingClassifier)\n",
        "print(accuracy_score_gradientBoostingClassifier)"
      ],
      "execution_count": null,
      "outputs": [
        {
          "output_type": "stream",
          "text": [
            "0.946415640839971\n"
          ],
          "name": "stdout"
        }
      ]
    },
    {
      "cell_type": "markdown",
      "metadata": {
        "id": "PVxsok-z9tOi"
      },
      "source": [
        "**Finally lets look at XGBoost.** This is another great boosting algorithm that is well known because of how well it works. It allows for easy cross-validation and regularization.\n"
      ]
    },
    {
      "cell_type": "code",
      "metadata": {
        "id": "gtSQQ_dFnZDE"
      },
      "source": [
        "import xgboost as xgb"
      ],
      "execution_count": null,
      "outputs": []
    },
    {
      "cell_type": "code",
      "metadata": {
        "id": "r0T6TDofpi47"
      },
      "source": [
        "# create an optimized structure for xgb\n",
        "data_dmatrix = xgb.DMatrix(data=X,label=y)"
      ],
      "execution_count": null,
      "outputs": []
    },
    {
      "cell_type": "code",
      "metadata": {
        "id": "vvrk_nCzqlwc"
      },
      "source": [
        "xg_reg = xgb.XGBClassifier(objective ='reg:linear', colsample_bytree = 0.3, learning_rate = 0.1,\n",
        "                max_depth = 5, alpha = 10, n_estimators = 100)"
      ],
      "execution_count": null,
      "outputs": []
    },
    {
      "cell_type": "code",
      "metadata": {
        "colab": {
          "base_uri": "https://localhost:8080/"
        },
        "id": "CioQfCUGqszQ",
        "outputId": "006d06d7-d450-46af-8b96-77f7152620ee"
      },
      "source": [
        "xg_reg.fit(X_train,y_train)\n",
        "xgb_predict = xg_reg.predict(X_test)\n",
        "xgb_accuracy_score = accuracy_score(y_test,xgb_predict)\n",
        "xgb_accuracy_score"
      ],
      "execution_count": null,
      "outputs": [
        {
          "output_type": "stream",
          "text": [
            "[01:50:51] WARNING: /workspace/src/objective/regression_obj.cu:152: reg:linear is now deprecated in favor of reg:squarederror.\n"
          ],
          "name": "stdout"
        },
        {
          "output_type": "execute_result",
          "data": {
            "text/plain": [
              "0.9507603186097031"
            ]
          },
          "metadata": {
            "tags": []
          },
          "execution_count": 30
        }
      ]
    },
    {
      "cell_type": "markdown",
      "metadata": {
        "id": "4PMaq0rqrSnU"
      },
      "source": [
        "Great. Now we can do the k-folds Cross Validation using XGBoost. This results in a less biased result. We can do this by splitting the dataset into k groups, and subdivide a testing data group and then make the remaining groups for training. Lets build a 5-fold cross validation. "
      ]
    },
    {
      "cell_type": "code",
      "metadata": {
        "colab": {
          "base_uri": "https://localhost:8080/"
        },
        "id": "KvnvUR5JsYeP",
        "outputId": "5c89927c-373d-4ced-d02e-7db7eb193141"
      },
      "source": [
        "params = {\"objective\":\"reg:linear\",'colsample_bytree': 0.3,'learning_rate': 0.1,\n",
        "                'max_depth': 5, 'alpha': 10}\n",
        "\n",
        "cv_results = xgb.cv(dtrain=data_dmatrix, params=params, nfold=5,\n",
        "                    num_boost_round=50,early_stopping_rounds=10,metrics=\"rmse\", as_pandas=True, seed=42)"
      ],
      "execution_count": null,
      "outputs": [
        {
          "output_type": "stream",
          "text": [
            "[02:01:26] WARNING: /workspace/src/objective/regression_obj.cu:152: reg:linear is now deprecated in favor of reg:squarederror.\n",
            "[02:01:26] WARNING: /workspace/src/objective/regression_obj.cu:152: reg:linear is now deprecated in favor of reg:squarederror.\n",
            "[02:01:26] WARNING: /workspace/src/objective/regression_obj.cu:152: reg:linear is now deprecated in favor of reg:squarederror.\n",
            "[02:01:26] WARNING: /workspace/src/objective/regression_obj.cu:152: reg:linear is now deprecated in favor of reg:squarederror.\n",
            "[02:01:26] WARNING: /workspace/src/objective/regression_obj.cu:152: reg:linear is now deprecated in favor of reg:squarederror.\n"
          ],
          "name": "stdout"
        }
      ]
    },
    {
      "cell_type": "code",
      "metadata": {
        "colab": {
          "base_uri": "https://localhost:8080/",
          "height": 204
        },
        "id": "gWkgSBwts5PL",
        "outputId": "c84363e5-6e33-41ca-c6f8-c4aa4bc7cabc"
      },
      "source": [
        "cv_results.head()"
      ],
      "execution_count": null,
      "outputs": [
        {
          "output_type": "execute_result",
          "data": {
            "text/html": [
              "<div>\n",
              "<style scoped>\n",
              "    .dataframe tbody tr th:only-of-type {\n",
              "        vertical-align: middle;\n",
              "    }\n",
              "\n",
              "    .dataframe tbody tr th {\n",
              "        vertical-align: top;\n",
              "    }\n",
              "\n",
              "    .dataframe thead th {\n",
              "        text-align: right;\n",
              "    }\n",
              "</style>\n",
              "<table border=\"1\" class=\"dataframe\">\n",
              "  <thead>\n",
              "    <tr style=\"text-align: right;\">\n",
              "      <th></th>\n",
              "      <th>train-rmse-mean</th>\n",
              "      <th>train-rmse-std</th>\n",
              "      <th>test-rmse-mean</th>\n",
              "      <th>test-rmse-std</th>\n",
              "    </tr>\n",
              "  </thead>\n",
              "  <tbody>\n",
              "    <tr>\n",
              "      <th>0</th>\n",
              "      <td>0.471121</td>\n",
              "      <td>0.000300</td>\n",
              "      <td>0.472020</td>\n",
              "      <td>0.000614</td>\n",
              "    </tr>\n",
              "    <tr>\n",
              "      <th>1</th>\n",
              "      <td>0.450041</td>\n",
              "      <td>0.004138</td>\n",
              "      <td>0.451911</td>\n",
              "      <td>0.003333</td>\n",
              "    </tr>\n",
              "    <tr>\n",
              "      <th>2</th>\n",
              "      <td>0.425723</td>\n",
              "      <td>0.003028</td>\n",
              "      <td>0.428729</td>\n",
              "      <td>0.001731</td>\n",
              "    </tr>\n",
              "    <tr>\n",
              "      <th>3</th>\n",
              "      <td>0.405931</td>\n",
              "      <td>0.003997</td>\n",
              "      <td>0.409683</td>\n",
              "      <td>0.003146</td>\n",
              "    </tr>\n",
              "    <tr>\n",
              "      <th>4</th>\n",
              "      <td>0.388565</td>\n",
              "      <td>0.004653</td>\n",
              "      <td>0.392620</td>\n",
              "      <td>0.003894</td>\n",
              "    </tr>\n",
              "  </tbody>\n",
              "</table>\n",
              "</div>"
            ],
            "text/plain": [
              "   train-rmse-mean  train-rmse-std  test-rmse-mean  test-rmse-std\n",
              "0         0.471121        0.000300        0.472020       0.000614\n",
              "1         0.450041        0.004138        0.451911       0.003333\n",
              "2         0.425723        0.003028        0.428729       0.001731\n",
              "3         0.405931        0.003997        0.409683       0.003146\n",
              "4         0.388565        0.004653        0.392620       0.003894"
            ]
          },
          "metadata": {
            "tags": []
          },
          "execution_count": 37
        }
      ]
    },
    {
      "cell_type": "markdown",
      "metadata": {
        "id": "rHtywpz8B17F"
      },
      "source": [
        "Lets see our final model accuracies."
      ]
    },
    {
      "cell_type": "markdown",
      "metadata": {
        "id": "rqN5UM9IBeKH"
      },
      "source": [
        "![Screen Shot 2021-05-07 at 11.30.47 PM.png](data:image/png;base64,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)"
      ]
    },
    {
      "cell_type": "markdown",
      "metadata": {
        "id": "ioyCdPj2B9V5"
      },
      "source": [
        "As you can see, the Second Random Forest Classification, XGBoost, and AdaBoost Classifier were very close and had an accuracy of 95%. The #1 predictor we found for classifying emails as spam or not spam is \"char_freq_%21\"."
      ]
    }
  ]
}