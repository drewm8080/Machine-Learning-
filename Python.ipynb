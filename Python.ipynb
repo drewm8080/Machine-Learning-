{
  "nbformat": 4,
  "nbformat_minor": 0,
  "metadata": {
    "colab": {
      "name": "Python",
      "provenance": [],
      "collapsed_sections": []
    },
    "kernelspec": {
      "name": "python3",
      "display_name": "Python 3"
    }
  },
  "cells": [
    {
      "cell_type": "markdown",
      "metadata": {
        "id": "hm8RAKinXsIP"
      },
      "source": [
        "## **Homework 1**\n",
        "\n",
        "### Create a copy of the notebook to start answering the questions. Name your notebook in the format HW1_lastname_firstname.ipynb to facilitate the grading process. \n",
        "\n",
        "### Answer all the questions, test your code to ensure there are no errors and the results are as expected. Once you have answered all the questions, save the final copy, then go to File-> click on Download.ipynb. Once the local copy has been downloaded, submit your file on Blackboard under the corresponding assignment section. Also provide us a link to your notebook during submission. \n",
        "\n",
        "### **The due date of this homework is 02/05/2021 (Friday).**\n",
        "\n",
        "### Please ensure you follow all the steps mentioned in the homework.\n",
        "\n",
        "### All the questions have a sample input and output to help you understand the question. Please note that your programs will be tested for other sets of inputs and outputs along with the sample provided. So test your code for other inputs.\n",
        "\n",
        "### You can submit your solutions any number of times until the deadline.\n"
      ]
    },
    {
      "cell_type": "markdown",
      "metadata": {
        "id": "uacFrEaZfcfq"
      },
      "source": [
        "##### Q1. Write a program that prompts the user to enter a password then prints the length of the password.\n",
        "\n",
        "```\n",
        "Enter your password: hello\n",
        "Your password is 5 long.\n",
        "```\n",
        "\n",
        "\n"
      ]
    },
    {
      "cell_type": "code",
      "metadata": {
        "id": "avPyES14ftCt",
        "colab": {
          "base_uri": "https://localhost:8080/"
        },
        "outputId": "c91e6005-c9cc-4301-c295-64c836558a14"
      },
      "source": [
        "# Type solution here\n",
        "\n",
        "userInput = input('Enter your password:')\n",
        "print('Your pass word is', len(userInput), 'long.')"
      ],
      "execution_count": null,
      "outputs": [
        {
          "output_type": "stream",
          "text": [
            "Enter your password:hello\n",
            "Your pass word is 5 long.\n"
          ],
          "name": "stdout"
        }
      ]
    },
    {
      "cell_type": "markdown",
      "metadata": {
        "id": "behD0j_Of2TW"
      },
      "source": [
        "##### Q2. Write a program that prompts the user to enter their full name then prints the number of characters in their name (do not count spaces).\n",
        "\n",
        "```\n",
        "What is your name? Amulya Katti\n",
        "Amulya Katti your name has 11 characters.\n",
        "```"
      ]
    },
    {
      "cell_type": "code",
      "metadata": {
        "id": "XSdIRjwlhSlu",
        "colab": {
          "base_uri": "https://localhost:8080/"
        },
        "outputId": "fa217850-5a79-4b6e-97bb-587b572a8482"
      },
      "source": [
        "# Type solution here\n",
        "\n",
        "userInput2 = input('What is your name?')\n",
        "print(userInput2, 'your name has', str(len(userInput2) +1 ), 'characters.')"
      ],
      "execution_count": null,
      "outputs": [
        {
          "output_type": "stream",
          "text": [
            "What is your name?Amulya Katti\n",
            "Amulya Katti your name has 11 characters.\n"
          ],
          "name": "stdout"
        }
      ]
    },
    {
      "cell_type": "markdown",
      "metadata": {
        "id": "5KHOWF6FhVHV"
      },
      "source": [
        "##### Q3. Write a program that prompts the user to enter a month (as a number), then prints the name of the month and the number of days in that month. Ensure that the user inputs a valid month and handle any error cases.\n",
        "\n",
        "```\n",
        "Enter the month number: 9\n",
        "September has 30 days\n",
        "```"
      ]
    },
    {
      "cell_type": "code",
      "metadata": {
        "id": "KhS-SAEThyTG",
        "colab": {
          "base_uri": "https://localhost:8080/"
        },
        "outputId": "33eb662c-e360-4e12-8074-b631aa612010"
      },
      "source": [
        "#enter Your answer here \n",
        "monthInput = input('Enter the month number:')\n",
        "\n",
        "if monthInput.isdigit():\n",
        "  if int(monthInput) == 1:\n",
        "    print('January has 31 days')\n",
        "  elif int(monthInput) == 2:\n",
        "    print('Feburary has 28 days')\n",
        "  elif int(monthInput) == 3:\n",
        "    print('March has 31 days')\n",
        "  elif int(monthInput) == 4:\n",
        "    print('April has 30 days')\n",
        "  elif int(monthInput) == 5:\n",
        "    print('May has 31 days')\n",
        "  elif int(monthInput) == 6:\n",
        "    print('June has 30 days')\n",
        "  elif int(monthInput) == 7:\n",
        "    print('July has 31 days')\n",
        "  elif int(monthInput) == 8:\n",
        "    print('August has 31 days')\n",
        "  elif int(monthInput) == 9:\n",
        "    print('September has 30 days')\n",
        "  elif int(monthInput) == 10:\n",
        "    print('October has 31 days')\n",
        "  elif int(monthInput) == 11:\n",
        "    print('Novenmber has 30 days')\n",
        "  elif int(monthInput) == 12:\n",
        "    print('december has 31 days')\n",
        "  else:\n",
        "    print('please put a number 1-12')\n",
        "\n",
        "else:\n",
        "  print('please enter a number ')\n"
      ],
      "execution_count": null,
      "outputs": [
        {
          "output_type": "stream",
          "text": [
            "Enter the month number:9\n",
            "September has 30 days\n"
          ],
          "name": "stdout"
        }
      ]
    },
    {
      "cell_type": "markdown",
      "metadata": {
        "id": "O7lnAdGlh6Xa"
      },
      "source": [
        "##### Q4. Write a program that prompts the user to enter a loan amount, annual interest rate, and number of years  for a car loan. Then calculate and print the monthly payment amount.\n",
        "\n",
        "Note:\n",
        "```\n",
        "PMT= [PV*i*((1+i)^n)]/[((1+i)^n)-1]\n",
        "```\n",
        "PMT is the monthly payment\n",
        "\n",
        "PV is the loan amount\n",
        "\n",
        "i is the interest rate per month in decimal form (interest rate percentage divided by 12)\n",
        "\n",
        "n is the number of months (term of the loan in months)\n",
        "\n",
        "```\n",
        "Loan Amount: 30000.00\n",
        "Annual Interest Rate: 4.00\n",
        "Years: 5\n",
        "Your monthly payment is: $552.50\n",
        "```"
      ]
    },
    {
      "cell_type": "code",
      "metadata": {
        "colab": {
          "base_uri": "https://localhost:8080/"
        },
        "id": "E1r8widgs8sG",
        "outputId": "345a81df-36ba-4b9d-f7be-3d960a67ee6d"
      },
      "source": [
        "pv = float(input('Loan Amount:'))\n",
        "i = float(input('Annual Interest Rate:'))\n",
        "n = float(input('Years:'))\n",
        "m = n *12\n",
        "ir = i /1200\n",
        "pmt = pv * (ir * (1 + ir)**m)/ ((1 + ir)**m -1)\n",
        "#loanAmount * (interestRate 5* (1 + interestRate) ** years) / ((1 + interestRate) ** years - 1\n",
        "pmtupdated = round(pmt,2)\n",
        "print('Your Monthly payment is:', str(pmtupdated))"
      ],
      "execution_count": null,
      "outputs": [
        {
          "output_type": "stream",
          "text": [
            "Loan Amount:30000\n",
            "Annual Interest Rate:4\n",
            "Years:5\n",
            "Your Monthly payment is: 552.5\n"
          ],
          "name": "stdout"
        }
      ]
    },
    {
      "cell_type": "code",
      "metadata": {
        "id": "p4B5JH5GiTs9"
      },
      "source": [
        "# Type solution here"
      ],
      "execution_count": null,
      "outputs": []
    },
    {
      "cell_type": "markdown",
      "metadata": {
        "id": "SjiolJKgiWV-"
      },
      "source": [
        "##### Q5. Write a program to that prompts the user to enter a string. Then check whether or not the string is a palindrome.\n",
        "\n",
        "```\n",
        "Enter a string: Madam\n",
        "Madam, is a palindrome!\n",
        "```"
      ]
    },
    {
      "cell_type": "code",
      "metadata": {
        "id": "F5_M934Ri0es",
        "colab": {
          "base_uri": "https://localhost:8080/"
        },
        "outputId": "5a5aa05c-0c4d-47ba-e21d-34fb54a4fe5a"
      },
      "source": [
        "# Type solution here\n",
        "name = input('Enter a string:')\n",
        "\n",
        "if name == name[::-1]:\n",
        "  print(name, 'is a palindrome')\n",
        "else:\n",
        "  print('Not a palindrome')"
      ],
      "execution_count": null,
      "outputs": [
        {
          "output_type": "stream",
          "text": [
            "Enter a string:madam\n",
            "madam is a palindrome\n"
          ],
          "name": "stdout"
        }
      ]
    },
    {
      "cell_type": "markdown",
      "metadata": {
        "id": "BLBD6n9vkJEu"
      },
      "source": [
        "##### Q6. Write a program to compute and print all possible combinations of change for \\$1. Denominations to be considered – quarter, dime, nickel, penny.\n",
        "\n",
        "Hint: Use nested loops (loops within loops for the various denominations of coins)\n",
        "\n",
        "```\n",
        "Change for $1:\n",
        "0 quarters, 0 dimes, 0 nickels, 100 pennies\n",
        "…\n",
        "4 quarters, 0 dimes, 0 nickels, 0 pennies\n",
        "```"
      ]
    },
    {
      "cell_type": "code",
      "metadata": {
        "id": "kAQsTjwDkZZ5",
        "colab": {
          "base_uri": "https://localhost:8080/"
        },
        "outputId": "f7743ce0-b8a1-4aee-ce58-87d155229731"
      },
      "source": [
        "for quarter in range(5):\n",
        "  for dime in range(11):\n",
        "    for nickel in range(21):\n",
        "      for penny in range(101):\n",
        "        if 25*quarter + 10*dime + 5* nickel + 1 * penny == 100:\n",
        "          print(quarter,\"quarters, \",dime,\"dimes, \",nickel,\"nickels, \",penny,\"pennies.\" )\n"
      ],
      "execution_count": null,
      "outputs": [
        {
          "output_type": "stream",
          "text": [
            "0 quarters,  0 dimes,  0 nickels,  100 pennies.\n",
            "0 quarters,  0 dimes,  1 nickels,  95 pennies.\n",
            "0 quarters,  0 dimes,  2 nickels,  90 pennies.\n",
            "0 quarters,  0 dimes,  3 nickels,  85 pennies.\n",
            "0 quarters,  0 dimes,  4 nickels,  80 pennies.\n",
            "0 quarters,  0 dimes,  5 nickels,  75 pennies.\n",
            "0 quarters,  0 dimes,  6 nickels,  70 pennies.\n",
            "0 quarters,  0 dimes,  7 nickels,  65 pennies.\n",
            "0 quarters,  0 dimes,  8 nickels,  60 pennies.\n",
            "0 quarters,  0 dimes,  9 nickels,  55 pennies.\n",
            "0 quarters,  0 dimes,  10 nickels,  50 pennies.\n",
            "0 quarters,  0 dimes,  11 nickels,  45 pennies.\n",
            "0 quarters,  0 dimes,  12 nickels,  40 pennies.\n",
            "0 quarters,  0 dimes,  13 nickels,  35 pennies.\n",
            "0 quarters,  0 dimes,  14 nickels,  30 pennies.\n",
            "0 quarters,  0 dimes,  15 nickels,  25 pennies.\n",
            "0 quarters,  0 dimes,  16 nickels,  20 pennies.\n",
            "0 quarters,  0 dimes,  17 nickels,  15 pennies.\n",
            "0 quarters,  0 dimes,  18 nickels,  10 pennies.\n",
            "0 quarters,  0 dimes,  19 nickels,  5 pennies.\n",
            "0 quarters,  0 dimes,  20 nickels,  0 pennies.\n",
            "0 quarters,  1 dimes,  0 nickels,  90 pennies.\n",
            "0 quarters,  1 dimes,  1 nickels,  85 pennies.\n",
            "0 quarters,  1 dimes,  2 nickels,  80 pennies.\n",
            "0 quarters,  1 dimes,  3 nickels,  75 pennies.\n",
            "0 quarters,  1 dimes,  4 nickels,  70 pennies.\n",
            "0 quarters,  1 dimes,  5 nickels,  65 pennies.\n",
            "0 quarters,  1 dimes,  6 nickels,  60 pennies.\n",
            "0 quarters,  1 dimes,  7 nickels,  55 pennies.\n",
            "0 quarters,  1 dimes,  8 nickels,  50 pennies.\n",
            "0 quarters,  1 dimes,  9 nickels,  45 pennies.\n",
            "0 quarters,  1 dimes,  10 nickels,  40 pennies.\n",
            "0 quarters,  1 dimes,  11 nickels,  35 pennies.\n",
            "0 quarters,  1 dimes,  12 nickels,  30 pennies.\n",
            "0 quarters,  1 dimes,  13 nickels,  25 pennies.\n",
            "0 quarters,  1 dimes,  14 nickels,  20 pennies.\n",
            "0 quarters,  1 dimes,  15 nickels,  15 pennies.\n",
            "0 quarters,  1 dimes,  16 nickels,  10 pennies.\n",
            "0 quarters,  1 dimes,  17 nickels,  5 pennies.\n",
            "0 quarters,  1 dimes,  18 nickels,  0 pennies.\n",
            "0 quarters,  2 dimes,  0 nickels,  80 pennies.\n",
            "0 quarters,  2 dimes,  1 nickels,  75 pennies.\n",
            "0 quarters,  2 dimes,  2 nickels,  70 pennies.\n",
            "0 quarters,  2 dimes,  3 nickels,  65 pennies.\n",
            "0 quarters,  2 dimes,  4 nickels,  60 pennies.\n",
            "0 quarters,  2 dimes,  5 nickels,  55 pennies.\n",
            "0 quarters,  2 dimes,  6 nickels,  50 pennies.\n",
            "0 quarters,  2 dimes,  7 nickels,  45 pennies.\n",
            "0 quarters,  2 dimes,  8 nickels,  40 pennies.\n",
            "0 quarters,  2 dimes,  9 nickels,  35 pennies.\n",
            "0 quarters,  2 dimes,  10 nickels,  30 pennies.\n",
            "0 quarters,  2 dimes,  11 nickels,  25 pennies.\n",
            "0 quarters,  2 dimes,  12 nickels,  20 pennies.\n",
            "0 quarters,  2 dimes,  13 nickels,  15 pennies.\n",
            "0 quarters,  2 dimes,  14 nickels,  10 pennies.\n",
            "0 quarters,  2 dimes,  15 nickels,  5 pennies.\n",
            "0 quarters,  2 dimes,  16 nickels,  0 pennies.\n",
            "0 quarters,  3 dimes,  0 nickels,  70 pennies.\n",
            "0 quarters,  3 dimes,  1 nickels,  65 pennies.\n",
            "0 quarters,  3 dimes,  2 nickels,  60 pennies.\n",
            "0 quarters,  3 dimes,  3 nickels,  55 pennies.\n",
            "0 quarters,  3 dimes,  4 nickels,  50 pennies.\n",
            "0 quarters,  3 dimes,  5 nickels,  45 pennies.\n",
            "0 quarters,  3 dimes,  6 nickels,  40 pennies.\n",
            "0 quarters,  3 dimes,  7 nickels,  35 pennies.\n",
            "0 quarters,  3 dimes,  8 nickels,  30 pennies.\n",
            "0 quarters,  3 dimes,  9 nickels,  25 pennies.\n",
            "0 quarters,  3 dimes,  10 nickels,  20 pennies.\n",
            "0 quarters,  3 dimes,  11 nickels,  15 pennies.\n",
            "0 quarters,  3 dimes,  12 nickels,  10 pennies.\n",
            "0 quarters,  3 dimes,  13 nickels,  5 pennies.\n",
            "0 quarters,  3 dimes,  14 nickels,  0 pennies.\n",
            "0 quarters,  4 dimes,  0 nickels,  60 pennies.\n",
            "0 quarters,  4 dimes,  1 nickels,  55 pennies.\n",
            "0 quarters,  4 dimes,  2 nickels,  50 pennies.\n",
            "0 quarters,  4 dimes,  3 nickels,  45 pennies.\n",
            "0 quarters,  4 dimes,  4 nickels,  40 pennies.\n",
            "0 quarters,  4 dimes,  5 nickels,  35 pennies.\n",
            "0 quarters,  4 dimes,  6 nickels,  30 pennies.\n",
            "0 quarters,  4 dimes,  7 nickels,  25 pennies.\n",
            "0 quarters,  4 dimes,  8 nickels,  20 pennies.\n",
            "0 quarters,  4 dimes,  9 nickels,  15 pennies.\n",
            "0 quarters,  4 dimes,  10 nickels,  10 pennies.\n",
            "0 quarters,  4 dimes,  11 nickels,  5 pennies.\n",
            "0 quarters,  4 dimes,  12 nickels,  0 pennies.\n",
            "0 quarters,  5 dimes,  0 nickels,  50 pennies.\n",
            "0 quarters,  5 dimes,  1 nickels,  45 pennies.\n",
            "0 quarters,  5 dimes,  2 nickels,  40 pennies.\n",
            "0 quarters,  5 dimes,  3 nickels,  35 pennies.\n",
            "0 quarters,  5 dimes,  4 nickels,  30 pennies.\n",
            "0 quarters,  5 dimes,  5 nickels,  25 pennies.\n",
            "0 quarters,  5 dimes,  6 nickels,  20 pennies.\n",
            "0 quarters,  5 dimes,  7 nickels,  15 pennies.\n",
            "0 quarters,  5 dimes,  8 nickels,  10 pennies.\n",
            "0 quarters,  5 dimes,  9 nickels,  5 pennies.\n",
            "0 quarters,  5 dimes,  10 nickels,  0 pennies.\n",
            "0 quarters,  6 dimes,  0 nickels,  40 pennies.\n",
            "0 quarters,  6 dimes,  1 nickels,  35 pennies.\n",
            "0 quarters,  6 dimes,  2 nickels,  30 pennies.\n",
            "0 quarters,  6 dimes,  3 nickels,  25 pennies.\n",
            "0 quarters,  6 dimes,  4 nickels,  20 pennies.\n",
            "0 quarters,  6 dimes,  5 nickels,  15 pennies.\n",
            "0 quarters,  6 dimes,  6 nickels,  10 pennies.\n",
            "0 quarters,  6 dimes,  7 nickels,  5 pennies.\n",
            "0 quarters,  6 dimes,  8 nickels,  0 pennies.\n",
            "0 quarters,  7 dimes,  0 nickels,  30 pennies.\n",
            "0 quarters,  7 dimes,  1 nickels,  25 pennies.\n",
            "0 quarters,  7 dimes,  2 nickels,  20 pennies.\n",
            "0 quarters,  7 dimes,  3 nickels,  15 pennies.\n",
            "0 quarters,  7 dimes,  4 nickels,  10 pennies.\n",
            "0 quarters,  7 dimes,  5 nickels,  5 pennies.\n",
            "0 quarters,  7 dimes,  6 nickels,  0 pennies.\n",
            "0 quarters,  8 dimes,  0 nickels,  20 pennies.\n",
            "0 quarters,  8 dimes,  1 nickels,  15 pennies.\n",
            "0 quarters,  8 dimes,  2 nickels,  10 pennies.\n",
            "0 quarters,  8 dimes,  3 nickels,  5 pennies.\n",
            "0 quarters,  8 dimes,  4 nickels,  0 pennies.\n",
            "0 quarters,  9 dimes,  0 nickels,  10 pennies.\n",
            "0 quarters,  9 dimes,  1 nickels,  5 pennies.\n",
            "0 quarters,  9 dimes,  2 nickels,  0 pennies.\n",
            "0 quarters,  10 dimes,  0 nickels,  0 pennies.\n",
            "1 quarters,  0 dimes,  0 nickels,  75 pennies.\n",
            "1 quarters,  0 dimes,  1 nickels,  70 pennies.\n",
            "1 quarters,  0 dimes,  2 nickels,  65 pennies.\n",
            "1 quarters,  0 dimes,  3 nickels,  60 pennies.\n",
            "1 quarters,  0 dimes,  4 nickels,  55 pennies.\n",
            "1 quarters,  0 dimes,  5 nickels,  50 pennies.\n",
            "1 quarters,  0 dimes,  6 nickels,  45 pennies.\n",
            "1 quarters,  0 dimes,  7 nickels,  40 pennies.\n",
            "1 quarters,  0 dimes,  8 nickels,  35 pennies.\n",
            "1 quarters,  0 dimes,  9 nickels,  30 pennies.\n",
            "1 quarters,  0 dimes,  10 nickels,  25 pennies.\n",
            "1 quarters,  0 dimes,  11 nickels,  20 pennies.\n",
            "1 quarters,  0 dimes,  12 nickels,  15 pennies.\n",
            "1 quarters,  0 dimes,  13 nickels,  10 pennies.\n",
            "1 quarters,  0 dimes,  14 nickels,  5 pennies.\n",
            "1 quarters,  0 dimes,  15 nickels,  0 pennies.\n",
            "1 quarters,  1 dimes,  0 nickels,  65 pennies.\n",
            "1 quarters,  1 dimes,  1 nickels,  60 pennies.\n",
            "1 quarters,  1 dimes,  2 nickels,  55 pennies.\n",
            "1 quarters,  1 dimes,  3 nickels,  50 pennies.\n",
            "1 quarters,  1 dimes,  4 nickels,  45 pennies.\n",
            "1 quarters,  1 dimes,  5 nickels,  40 pennies.\n",
            "1 quarters,  1 dimes,  6 nickels,  35 pennies.\n",
            "1 quarters,  1 dimes,  7 nickels,  30 pennies.\n",
            "1 quarters,  1 dimes,  8 nickels,  25 pennies.\n",
            "1 quarters,  1 dimes,  9 nickels,  20 pennies.\n",
            "1 quarters,  1 dimes,  10 nickels,  15 pennies.\n",
            "1 quarters,  1 dimes,  11 nickels,  10 pennies.\n",
            "1 quarters,  1 dimes,  12 nickels,  5 pennies.\n",
            "1 quarters,  1 dimes,  13 nickels,  0 pennies.\n",
            "1 quarters,  2 dimes,  0 nickels,  55 pennies.\n",
            "1 quarters,  2 dimes,  1 nickels,  50 pennies.\n",
            "1 quarters,  2 dimes,  2 nickels,  45 pennies.\n",
            "1 quarters,  2 dimes,  3 nickels,  40 pennies.\n",
            "1 quarters,  2 dimes,  4 nickels,  35 pennies.\n",
            "1 quarters,  2 dimes,  5 nickels,  30 pennies.\n",
            "1 quarters,  2 dimes,  6 nickels,  25 pennies.\n",
            "1 quarters,  2 dimes,  7 nickels,  20 pennies.\n",
            "1 quarters,  2 dimes,  8 nickels,  15 pennies.\n",
            "1 quarters,  2 dimes,  9 nickels,  10 pennies.\n",
            "1 quarters,  2 dimes,  10 nickels,  5 pennies.\n",
            "1 quarters,  2 dimes,  11 nickels,  0 pennies.\n",
            "1 quarters,  3 dimes,  0 nickels,  45 pennies.\n",
            "1 quarters,  3 dimes,  1 nickels,  40 pennies.\n",
            "1 quarters,  3 dimes,  2 nickels,  35 pennies.\n",
            "1 quarters,  3 dimes,  3 nickels,  30 pennies.\n",
            "1 quarters,  3 dimes,  4 nickels,  25 pennies.\n",
            "1 quarters,  3 dimes,  5 nickels,  20 pennies.\n",
            "1 quarters,  3 dimes,  6 nickels,  15 pennies.\n",
            "1 quarters,  3 dimes,  7 nickels,  10 pennies.\n",
            "1 quarters,  3 dimes,  8 nickels,  5 pennies.\n",
            "1 quarters,  3 dimes,  9 nickels,  0 pennies.\n",
            "1 quarters,  4 dimes,  0 nickels,  35 pennies.\n",
            "1 quarters,  4 dimes,  1 nickels,  30 pennies.\n",
            "1 quarters,  4 dimes,  2 nickels,  25 pennies.\n",
            "1 quarters,  4 dimes,  3 nickels,  20 pennies.\n",
            "1 quarters,  4 dimes,  4 nickels,  15 pennies.\n",
            "1 quarters,  4 dimes,  5 nickels,  10 pennies.\n",
            "1 quarters,  4 dimes,  6 nickels,  5 pennies.\n",
            "1 quarters,  4 dimes,  7 nickels,  0 pennies.\n",
            "1 quarters,  5 dimes,  0 nickels,  25 pennies.\n",
            "1 quarters,  5 dimes,  1 nickels,  20 pennies.\n",
            "1 quarters,  5 dimes,  2 nickels,  15 pennies.\n",
            "1 quarters,  5 dimes,  3 nickels,  10 pennies.\n",
            "1 quarters,  5 dimes,  4 nickels,  5 pennies.\n",
            "1 quarters,  5 dimes,  5 nickels,  0 pennies.\n",
            "1 quarters,  6 dimes,  0 nickels,  15 pennies.\n",
            "1 quarters,  6 dimes,  1 nickels,  10 pennies.\n",
            "1 quarters,  6 dimes,  2 nickels,  5 pennies.\n",
            "1 quarters,  6 dimes,  3 nickels,  0 pennies.\n",
            "1 quarters,  7 dimes,  0 nickels,  5 pennies.\n",
            "1 quarters,  7 dimes,  1 nickels,  0 pennies.\n",
            "2 quarters,  0 dimes,  0 nickels,  50 pennies.\n",
            "2 quarters,  0 dimes,  1 nickels,  45 pennies.\n",
            "2 quarters,  0 dimes,  2 nickels,  40 pennies.\n",
            "2 quarters,  0 dimes,  3 nickels,  35 pennies.\n",
            "2 quarters,  0 dimes,  4 nickels,  30 pennies.\n",
            "2 quarters,  0 dimes,  5 nickels,  25 pennies.\n",
            "2 quarters,  0 dimes,  6 nickels,  20 pennies.\n",
            "2 quarters,  0 dimes,  7 nickels,  15 pennies.\n",
            "2 quarters,  0 dimes,  8 nickels,  10 pennies.\n",
            "2 quarters,  0 dimes,  9 nickels,  5 pennies.\n",
            "2 quarters,  0 dimes,  10 nickels,  0 pennies.\n",
            "2 quarters,  1 dimes,  0 nickels,  40 pennies.\n",
            "2 quarters,  1 dimes,  1 nickels,  35 pennies.\n",
            "2 quarters,  1 dimes,  2 nickels,  30 pennies.\n",
            "2 quarters,  1 dimes,  3 nickels,  25 pennies.\n",
            "2 quarters,  1 dimes,  4 nickels,  20 pennies.\n",
            "2 quarters,  1 dimes,  5 nickels,  15 pennies.\n",
            "2 quarters,  1 dimes,  6 nickels,  10 pennies.\n",
            "2 quarters,  1 dimes,  7 nickels,  5 pennies.\n",
            "2 quarters,  1 dimes,  8 nickels,  0 pennies.\n",
            "2 quarters,  2 dimes,  0 nickels,  30 pennies.\n",
            "2 quarters,  2 dimes,  1 nickels,  25 pennies.\n",
            "2 quarters,  2 dimes,  2 nickels,  20 pennies.\n",
            "2 quarters,  2 dimes,  3 nickels,  15 pennies.\n",
            "2 quarters,  2 dimes,  4 nickels,  10 pennies.\n",
            "2 quarters,  2 dimes,  5 nickels,  5 pennies.\n",
            "2 quarters,  2 dimes,  6 nickels,  0 pennies.\n",
            "2 quarters,  3 dimes,  0 nickels,  20 pennies.\n",
            "2 quarters,  3 dimes,  1 nickels,  15 pennies.\n",
            "2 quarters,  3 dimes,  2 nickels,  10 pennies.\n",
            "2 quarters,  3 dimes,  3 nickels,  5 pennies.\n",
            "2 quarters,  3 dimes,  4 nickels,  0 pennies.\n",
            "2 quarters,  4 dimes,  0 nickels,  10 pennies.\n",
            "2 quarters,  4 dimes,  1 nickels,  5 pennies.\n",
            "2 quarters,  4 dimes,  2 nickels,  0 pennies.\n",
            "2 quarters,  5 dimes,  0 nickels,  0 pennies.\n",
            "3 quarters,  0 dimes,  0 nickels,  25 pennies.\n",
            "3 quarters,  0 dimes,  1 nickels,  20 pennies.\n",
            "3 quarters,  0 dimes,  2 nickels,  15 pennies.\n",
            "3 quarters,  0 dimes,  3 nickels,  10 pennies.\n",
            "3 quarters,  0 dimes,  4 nickels,  5 pennies.\n",
            "3 quarters,  0 dimes,  5 nickels,  0 pennies.\n",
            "3 quarters,  1 dimes,  0 nickels,  15 pennies.\n",
            "3 quarters,  1 dimes,  1 nickels,  10 pennies.\n",
            "3 quarters,  1 dimes,  2 nickels,  5 pennies.\n",
            "3 quarters,  1 dimes,  3 nickels,  0 pennies.\n",
            "3 quarters,  2 dimes,  0 nickels,  5 pennies.\n",
            "3 quarters,  2 dimes,  1 nickels,  0 pennies.\n",
            "4 quarters,  0 dimes,  0 nickels,  0 pennies.\n"
          ],
          "name": "stdout"
        }
      ]
    },
    {
      "cell_type": "markdown",
      "metadata": {
        "id": "rUPDjYiIkbgs"
      },
      "source": [
        "##### Q7. Ask the user to enter two positive integers between 1 and 100. Read those integers. Then output a multiplication table of the first number times the second number. \n",
        "\n",
        "Note: You have to ensure the entered numbers are between 1 and 100 only.\n",
        "\n",
        "```\n",
        "Please enter an integer: 5\n",
        "Please enter another integer: 20\n",
        "5 x 1 = 5\n",
        "5 x 2 = 10\n",
        "5 x 3 = 15\n",
        "…\n",
        "5 x 20 = 100\n",
        "```"
      ]
    },
    {
      "cell_type": "code",
      "metadata": {
        "id": "Qg0Orv1klHzA",
        "colab": {
          "base_uri": "https://localhost:8080/"
        },
        "outputId": "bfc0127a-85c6-41db-eb94-adf8cd958600"
      },
      "source": [
        "# Type solution here\n",
        "\n",
        "integerInput = int(input('Please enter an integer: '))\n",
        "integerInput2 = int(input('Please enter another integer: '))\n",
        "counter = 0 \n",
        "if (integerInput >= 1) & (integerInput <= 100) & (integerInput2 >= 1) & (integerInput2 <= 100):\n",
        "  times = integerInput * counter\n",
        "  while counter < integerInput2:\n",
        "    counter = counter +1\n",
        "    times = integerInput * counter\n",
        "\n",
        "    print(integerInput, \"X\", counter, '=', times )\n",
        "else:\n",
        "  print('Please enter an integer 1 through 100')"
      ],
      "execution_count": null,
      "outputs": [
        {
          "output_type": "stream",
          "text": [
            "Please enter an integer: 5\n",
            "Please enter another integer: 20\n",
            "5 X 1 = 5\n",
            "5 X 2 = 10\n",
            "5 X 3 = 15\n",
            "5 X 4 = 20\n",
            "5 X 5 = 25\n",
            "5 X 6 = 30\n",
            "5 X 7 = 35\n",
            "5 X 8 = 40\n",
            "5 X 9 = 45\n",
            "5 X 10 = 50\n",
            "5 X 11 = 55\n",
            "5 X 12 = 60\n",
            "5 X 13 = 65\n",
            "5 X 14 = 70\n",
            "5 X 15 = 75\n",
            "5 X 16 = 80\n",
            "5 X 17 = 85\n",
            "5 X 18 = 90\n",
            "5 X 19 = 95\n",
            "5 X 20 = 100\n"
          ],
          "name": "stdout"
        }
      ]
    },
    {
      "cell_type": "markdown",
      "metadata": {
        "id": "SbnbPUPTlLD9"
      },
      "source": [
        "##### Q8. Write a program to ask the user to enter a password. Then check to see if it is a valid password based on these requirements -\n",
        "\n",
        "Must be at least 8 characters long\n",
        "\n",
        "Must contain both uppercase and lowercase letters\n",
        "\n",
        "Must contain at least one number between 0-9\n",
        "\n",
        "Must contain a special character -!,@,#,$\n",
        "\n",
        "If the password is not valid, ask the user to re-enter. This should continue until the user enters a valid password. After a valid password is entered, print Access Granted!\n",
        "\n",
        "```\n",
        "Please enter a password. Follow these requirements - \n",
        "a. Must be at least 8 characters long\n",
        "b. Must contain both uppercase and lowercase letters\n",
        "c. Must contain at least one number between 0-9\n",
        "d. Must contain a special character -!,@,#,$\n",
        "Password: HelloWorld1\n",
        "Invalid password. Try again!\n",
        "Password: Hello@World1\n",
        "Access Granted!\n",
        "```\n"
      ]
    },
    {
      "cell_type": "code",
      "metadata": {
        "id": "9gNGdtsawVC4"
      },
      "source": [
        "# Type solution here\n",
        "print('Please enter a password. Follow these requirements - ')\n",
        "print('a. Must be at least 8 characters long')\n",
        "print('b. Must contain both uppercase and lowercase letters')\n",
        "print('c. Must contain at least one number between 0-9')\n",
        "print('d. Must contain a special character -!,@,#,$')\n",
        "flag  = 0\n",
        "while True:\n",
        "  password = input('Password: ')\n",
        "  if len(password) < 8:\n",
        "    print('Invalid password. Please Try Again!')\n",
        "  elif (password.isupper == False) & (password.islower == False):\n",
        "    print('Invalid password. Please Try Again!')\n",
        "  elif password.isnumeric == False:\n",
        "    print('Invalid password. Please Try Again!')\n",
        "  elif '!' not in password:\n",
        "    print('Invalid password. Please Try Again!')\n",
        "  elif '@' not in password:\n",
        "    print('Invalid password. Please Try Again!')\n",
        "  elif '#' not in password:\n",
        "    print('Invalid password. Please Try Again!')\n",
        "  elif '$' not in password:\n",
        "    print('Invalid password. Please Try Again!')\n",
        "  else:\n",
        "    print('Access Granted')\n",
        "    break"
      ],
      "execution_count": null,
      "outputs": []
    },
    {
      "cell_type": "markdown",
      "metadata": {
        "id": "-0sdutTDnTKA"
      },
      "source": [
        "##### Q9. Given the score sheet of participants in a competition, you are required to find the runner-up score. You are given scores in a list. Find the score of the runner-up.\n",
        "\n",
        "```\n",
        "list1 - [2, 3, 6, 6, 5]\n",
        "runner_up - 5\n",
        "\n",
        "list2 - [1, 7, 5, 3, 10, 4, 5, 5, 6, 11]\n",
        "runner_up - 10\n",
        "```"
      ]
    },
    {
      "cell_type": "code",
      "metadata": {
        "id": "12YP9OaqpGRK",
        "colab": {
          "base_uri": "https://localhost:8080/"
        },
        "outputId": "15914541-28c4-4a1e-dc08-9b84c3e409cd"
      },
      "source": [
        "\n",
        "# Type solution here\n",
        "list1 = [2,3,6,6,5]\n",
        "unique = []\n",
        "for x in list1:\n",
        "  if x not in unique:\n",
        "    unique.append(x)\n",
        "    unique.sort()\n",
        "print('list1 -  [2, 3, 6, 6, 5]')\n",
        "print('runnerup - ', unique[-2])\n",
        "\n",
        "list2 = [1, 7, 5, 3, 10, 4, 5, 5, 6, 11]\n",
        "unique2 = []\n",
        "for x in list2:\n",
        "  if x not in unique:\n",
        "    unique2.append(x)\n",
        "    unique2.sort()\n",
        "print('list 2 - [1, 7, 5, 3, 10, 4, 5, 5, 6, 11]')\n",
        "print('runnerup - ',unique2[-2])"
      ],
      "execution_count": null,
      "outputs": [
        {
          "output_type": "stream",
          "text": [
            "list1 -  [2, 3, 6, 6, 5]\n",
            "runnerup -  5\n",
            "list 2 - [1, 7, 5, 3, 10, 4, 5, 5, 6, 11]\n",
            "runnerup -  10\n"
          ],
          "name": "stdout"
        }
      ]
    }
  ]
}